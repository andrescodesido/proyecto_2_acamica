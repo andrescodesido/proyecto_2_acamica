{
 "cells": [
  {
   "cell_type": "markdown",
   "id": "1cb555ea",
   "metadata": {},
   "source": [
    "**Importamos las librerías necesarias para trabajar con el dataset.**"
   ]
  },
  {
   "cell_type": "code",
   "execution_count": 127,
   "id": "8d8151ce",
   "metadata": {
    "scrolled": true
   },
   "outputs": [],
   "source": [
    "import pandas as pd\n",
    "import numpy as np\n",
    "import matplotlib.pyplot as plt\n",
    "import seaborn as sns"
   ]
  },
  {
   "cell_type": "markdown",
   "id": "71a3294c",
   "metadata": {},
   "source": [
    "**Cargamos el dataset usando las funcionalidades de Pandas e imprimimos el Shape del dataset, el index y las columnas en el que observamos la cantidad de instancias y la cantidad y nombre de las columnas. A su vez visualizamos las cinco primeras instancias dandonos una idea de los tipos de datos.**"
   ]
  },
  {
   "cell_type": "code",
   "execution_count": 128,
   "id": "06eebfe0",
   "metadata": {
    "scrolled": false
   },
   "outputs": [
    {
     "name": "stdout",
     "output_type": "stream",
     "text": [
      "(146660, 19)\n",
      "RangeIndex(start=0, stop=146660, step=1)\n",
      "Index(['start_date', 'end_date', 'created_on', 'lat', 'lon', 'l1', 'l2', 'l3',\n",
      "       'rooms', 'bedrooms', 'bathrooms', 'surface_total', 'surface_covered',\n",
      "       'price', 'currency', 'title', 'description', 'property_type',\n",
      "       'operation_type'],\n",
      "      dtype='object')\n"
     ]
    },
    {
     "data": {
      "text/html": [
       "<div>\n",
       "<style scoped>\n",
       "    .dataframe tbody tr th:only-of-type {\n",
       "        vertical-align: middle;\n",
       "    }\n",
       "\n",
       "    .dataframe tbody tr th {\n",
       "        vertical-align: top;\n",
       "    }\n",
       "\n",
       "    .dataframe thead th {\n",
       "        text-align: right;\n",
       "    }\n",
       "</style>\n",
       "<table border=\"1\" class=\"dataframe\">\n",
       "  <thead>\n",
       "    <tr style=\"text-align: right;\">\n",
       "      <th></th>\n",
       "      <th>start_date</th>\n",
       "      <th>end_date</th>\n",
       "      <th>created_on</th>\n",
       "      <th>lat</th>\n",
       "      <th>lon</th>\n",
       "      <th>l1</th>\n",
       "      <th>l2</th>\n",
       "      <th>l3</th>\n",
       "      <th>rooms</th>\n",
       "      <th>bedrooms</th>\n",
       "      <th>bathrooms</th>\n",
       "      <th>surface_total</th>\n",
       "      <th>surface_covered</th>\n",
       "      <th>price</th>\n",
       "      <th>currency</th>\n",
       "      <th>title</th>\n",
       "      <th>description</th>\n",
       "      <th>property_type</th>\n",
       "      <th>operation_type</th>\n",
       "    </tr>\n",
       "  </thead>\n",
       "  <tbody>\n",
       "    <tr>\n",
       "      <th>0</th>\n",
       "      <td>2019-10-17</td>\n",
       "      <td>2019-12-23</td>\n",
       "      <td>2019-10-17</td>\n",
       "      <td>-34.605880</td>\n",
       "      <td>-58.384949</td>\n",
       "      <td>Argentina</td>\n",
       "      <td>Capital Federal</td>\n",
       "      <td>San Cristobal</td>\n",
       "      <td>7.0</td>\n",
       "      <td>7.0</td>\n",
       "      <td>2.0</td>\n",
       "      <td>140.0</td>\n",
       "      <td>140.0</td>\n",
       "      <td>153000.0</td>\n",
       "      <td>USD</td>\n",
       "      <td>***Venta semipiso centro, ideal hostel*****</td>\n",
       "      <td>DESCRIPCION DE LA PROPIEDAD: Departamento de 1...</td>\n",
       "      <td>Departamento</td>\n",
       "      <td>Venta</td>\n",
       "    </tr>\n",
       "    <tr>\n",
       "      <th>1</th>\n",
       "      <td>2019-10-17</td>\n",
       "      <td>2019-11-21</td>\n",
       "      <td>2019-10-17</td>\n",
       "      <td>-34.624056</td>\n",
       "      <td>-58.412110</td>\n",
       "      <td>Argentina</td>\n",
       "      <td>Capital Federal</td>\n",
       "      <td>Boedo</td>\n",
       "      <td>2.0</td>\n",
       "      <td>1.0</td>\n",
       "      <td>2.0</td>\n",
       "      <td>70.0</td>\n",
       "      <td>58.0</td>\n",
       "      <td>159000.0</td>\n",
       "      <td>USD</td>\n",
       "      <td>Espectacular PH reciclado en Boedo sin expensas.</td>\n",
       "      <td>PH reciclado en Boedo a una cuadra de la plaz...</td>\n",
       "      <td>PH</td>\n",
       "      <td>Venta</td>\n",
       "    </tr>\n",
       "    <tr>\n",
       "      <th>2</th>\n",
       "      <td>2019-10-17</td>\n",
       "      <td>2019-11-01</td>\n",
       "      <td>2019-10-17</td>\n",
       "      <td>-34.593569</td>\n",
       "      <td>-58.427474</td>\n",
       "      <td>Argentina</td>\n",
       "      <td>Capital Federal</td>\n",
       "      <td>Palermo</td>\n",
       "      <td>2.0</td>\n",
       "      <td>1.0</td>\n",
       "      <td>1.0</td>\n",
       "      <td>45.0</td>\n",
       "      <td>45.0</td>\n",
       "      <td>125000.0</td>\n",
       "      <td>USD</td>\n",
       "      <td>Depto.tipo casa de 2 ambientes en Venta en Pal...</td>\n",
       "      <td>2 ambienets amplio , excelente estado , patio ...</td>\n",
       "      <td>PH</td>\n",
       "      <td>Venta</td>\n",
       "    </tr>\n",
       "    <tr>\n",
       "      <th>3</th>\n",
       "      <td>2019-10-17</td>\n",
       "      <td>2019-12-23</td>\n",
       "      <td>2019-10-17</td>\n",
       "      <td>-34.581294</td>\n",
       "      <td>-58.436754</td>\n",
       "      <td>Argentina</td>\n",
       "      <td>Capital Federal</td>\n",
       "      <td>Palermo</td>\n",
       "      <td>2.0</td>\n",
       "      <td>1.0</td>\n",
       "      <td>1.0</td>\n",
       "      <td>85.0</td>\n",
       "      <td>50.0</td>\n",
       "      <td>295000.0</td>\n",
       "      <td>USD</td>\n",
       "      <td>COSTA RICA 5800 / PALERMO HOLLYWOOD / VENTA PH...</td>\n",
       "      <td>HERMOSO PH EN PALERMO!!!2 AMBIENTES TOTALMENTE...</td>\n",
       "      <td>PH</td>\n",
       "      <td>Venta</td>\n",
       "    </tr>\n",
       "    <tr>\n",
       "      <th>4</th>\n",
       "      <td>2019-10-17</td>\n",
       "      <td>2020-03-11</td>\n",
       "      <td>2019-10-17</td>\n",
       "      <td>-34.914194</td>\n",
       "      <td>-57.938219</td>\n",
       "      <td>Argentina</td>\n",
       "      <td>Bs.As. G.B.A. Zona Sur</td>\n",
       "      <td>La Plata</td>\n",
       "      <td>2.0</td>\n",
       "      <td>1.0</td>\n",
       "      <td>1.0</td>\n",
       "      <td>50.0</td>\n",
       "      <td>35.0</td>\n",
       "      <td>40000.0</td>\n",
       "      <td>USD</td>\n",
       "      <td>58 entre 1 y 2  Venta de departamento en ph.1 ...</td>\n",
       "      <td>58 entre 1 y 2  Venta de departamento en PH. P...</td>\n",
       "      <td>PH</td>\n",
       "      <td>Venta</td>\n",
       "    </tr>\n",
       "  </tbody>\n",
       "</table>\n",
       "</div>"
      ],
      "text/plain": [
       "   start_date    end_date  created_on        lat        lon         l1  \\\n",
       "0  2019-10-17  2019-12-23  2019-10-17 -34.605880 -58.384949  Argentina   \n",
       "1  2019-10-17  2019-11-21  2019-10-17 -34.624056 -58.412110  Argentina   \n",
       "2  2019-10-17  2019-11-01  2019-10-17 -34.593569 -58.427474  Argentina   \n",
       "3  2019-10-17  2019-12-23  2019-10-17 -34.581294 -58.436754  Argentina   \n",
       "4  2019-10-17  2020-03-11  2019-10-17 -34.914194 -57.938219  Argentina   \n",
       "\n",
       "                       l2             l3  rooms  bedrooms  bathrooms  \\\n",
       "0         Capital Federal  San Cristobal    7.0       7.0        2.0   \n",
       "1         Capital Federal          Boedo    2.0       1.0        2.0   \n",
       "2         Capital Federal        Palermo    2.0       1.0        1.0   \n",
       "3         Capital Federal        Palermo    2.0       1.0        1.0   \n",
       "4  Bs.As. G.B.A. Zona Sur       La Plata    2.0       1.0        1.0   \n",
       "\n",
       "   surface_total  surface_covered     price currency  \\\n",
       "0          140.0            140.0  153000.0      USD   \n",
       "1           70.0             58.0  159000.0      USD   \n",
       "2           45.0             45.0  125000.0      USD   \n",
       "3           85.0             50.0  295000.0      USD   \n",
       "4           50.0             35.0   40000.0      USD   \n",
       "\n",
       "                                               title  \\\n",
       "0        ***Venta semipiso centro, ideal hostel*****   \n",
       "1   Espectacular PH reciclado en Boedo sin expensas.   \n",
       "2  Depto.tipo casa de 2 ambientes en Venta en Pal...   \n",
       "3  COSTA RICA 5800 / PALERMO HOLLYWOOD / VENTA PH...   \n",
       "4  58 entre 1 y 2  Venta de departamento en ph.1 ...   \n",
       "\n",
       "                                         description property_type  \\\n",
       "0  DESCRIPCION DE LA PROPIEDAD: Departamento de 1...  Departamento   \n",
       "1   PH reciclado en Boedo a una cuadra de la plaz...            PH   \n",
       "2  2 ambienets amplio , excelente estado , patio ...            PH   \n",
       "3  HERMOSO PH EN PALERMO!!!2 AMBIENTES TOTALMENTE...            PH   \n",
       "4  58 entre 1 y 2  Venta de departamento en PH. P...            PH   \n",
       "\n",
       "  operation_type  \n",
       "0          Venta  \n",
       "1          Venta  \n",
       "2          Venta  \n",
       "3          Venta  \n",
       "4          Venta  "
      ]
     },
     "execution_count": 128,
     "metadata": {},
     "output_type": "execute_result"
    }
   ],
   "source": [
    "dataset=pd.read_csv(\"DS_Proyecto_01_Datos_Properati (2).csv\")\n",
    "print(dataset.shape)\n",
    "print(dataset.index)\n",
    "print(dataset.columns)\n",
    "dataset.head()"
   ]
  },
  {
   "cell_type": "markdown",
   "id": "88a95f1f",
   "metadata": {},
   "source": [
    "**Vemos si existen faltantes en alguna columna en porcentaje para una mas rapida intendificacion de la importancia de los faltantes.**"
   ]
  },
  {
   "cell_type": "code",
   "execution_count": 129,
   "id": "50cae822",
   "metadata": {},
   "outputs": [
    {
     "name": "stdout",
     "output_type": "stream",
     "text": [
      "start_date 0.00%\n",
      "end_date 0.00%\n",
      "created_on 0.00%\n",
      "lat 6.77%\n",
      "lon 6.79%\n",
      "l1 0.00%\n",
      "l2 0.00%\n",
      "l3 0.00%\n",
      "rooms 0.00%\n",
      "bedrooms 0.00%\n",
      "bathrooms 4.06%\n",
      "surface_total 14.00%\n",
      "surface_covered 14.74%\n",
      "price 0.00%\n",
      "currency 0.00%\n",
      "title 0.00%\n",
      "description 0.00%\n",
      "property_type 0.00%\n",
      "operation_type 0.00%\n"
     ]
    }
   ],
   "source": [
    "for col in dataset.columns:\n",
    "    nulos=dataset[col].isna().sum()\n",
    "    print(col, \"{:.2f}%\".format(nulos*100/146660))"
   ]
  },
  {
   "cell_type": "markdown",
   "id": "26aeb933",
   "metadata": {},
   "source": [
    "**Eliminamos las columnas que consideramos que para este proyecto no son de utilidad y observamos como nos queda el dataframe con un Shape.**"
   ]
  },
  {
   "cell_type": "code",
   "execution_count": 130,
   "id": "ce57e65c",
   "metadata": {},
   "outputs": [
    {
     "data": {
      "text/plain": [
       "(146660, 9)"
      ]
     },
     "execution_count": 130,
     "metadata": {},
     "output_type": "execute_result"
    }
   ],
   "source": [
    "columnas_descartar=[\"start_date\",\"end_date\",\"created_on\",\"currency\",\"operation_type\",'l1',\"title\",\"description\",'lat', 'lon']\n",
    "dataset=dataset.drop(columns=columnas_descartar)\n",
    "dataset.shape"
   ]
  },
  {
   "cell_type": "markdown",
   "id": "7bbce6ca",
   "metadata": {},
   "source": [
    "**Vemos cuantas columnas categoricas nos quedaron para mas adelante porder trabajar con ellas, transformandolas segun algun metodo.**"
   ]
  },
  {
   "cell_type": "code",
   "execution_count": 131,
   "id": "0bf26d23",
   "metadata": {},
   "outputs": [
    {
     "name": "stdout",
     "output_type": "stream",
     "text": [
      "<class 'pandas.core.frame.DataFrame'>\n",
      "RangeIndex: 146660 entries, 0 to 146659\n",
      "Data columns (total 9 columns):\n",
      " #   Column           Non-Null Count   Dtype  \n",
      "---  ------           --------------   -----  \n",
      " 0   l2               146660 non-null  object \n",
      " 1   l3               146660 non-null  object \n",
      " 2   rooms            146660 non-null  float64\n",
      " 3   bedrooms         146660 non-null  float64\n",
      " 4   bathrooms        140703 non-null  float64\n",
      " 5   surface_total    126133 non-null  float64\n",
      " 6   surface_covered  125046 non-null  float64\n",
      " 7   price            146660 non-null  float64\n",
      " 8   property_type    146660 non-null  object \n",
      "dtypes: float64(6), object(3)\n",
      "memory usage: 10.1+ MB\n",
      "None\n"
     ]
    }
   ],
   "source": [
    "print(dataset.info())"
   ]
  },
  {
   "cell_type": "markdown",
   "id": "075ec223",
   "metadata": {},
   "source": [
    "**Renombramos las columnas L2 y L3 para que sea mas claro y evitar confusiones.**"
   ]
  },
  {
   "cell_type": "code",
   "execution_count": 132,
   "id": "a6762763",
   "metadata": {},
   "outputs": [],
   "source": [
    "dataset.rename({'l2':\"Zona\", 'l3':\"Localidad\"},axis=1, inplace=True)"
   ]
  },
  {
   "cell_type": "markdown",
   "id": "1504df8a",
   "metadata": {},
   "source": [
    "## Outliers."
   ]
  },
  {
   "cell_type": "markdown",
   "id": "90cf705e",
   "metadata": {},
   "source": [
    "**Ahora vamos a trabajar los outliers. Usaremos la tecnica de los tres sigmas.**"
   ]
  },
  {
   "cell_type": "markdown",
   "id": "d7a51743",
   "metadata": {},
   "source": [
    "**Primero hacemos una copia del dataset. Ya que separo en un dataset nuevo las instancias con los valores faltantes antes visto para poder completarlos sin la interferencia de outliers que producirian datos erroneos.**"
   ]
  },
  {
   "cell_type": "code",
   "execution_count": 133,
   "id": "57510f9a",
   "metadata": {},
   "outputs": [],
   "source": [
    "datasetA=dataset.copy()"
   ]
  },
  {
   "cell_type": "code",
   "execution_count": 134,
   "id": "08f73c82",
   "metadata": {},
   "outputs": [
    {
     "data": {
      "text/plain": [
       "(23842, 9)"
      ]
     },
     "execution_count": 134,
     "metadata": {},
     "output_type": "execute_result"
    }
   ],
   "source": [
    "datasetA=datasetA[(datasetA[\"bathrooms\"].isnull())|(datasetA[\"surface_total\"].isnull())|(datasetA[\"surface_covered\"].isnull())]\n",
    "datasetA.shape"
   ]
  },
  {
   "cell_type": "markdown",
   "id": "55e71a7d",
   "metadata": {},
   "source": [
    "**Segundo elimino del dataset original estas instancias ya que adelante las volvere a poner. Todo con el motivo de no repetir informacion.** "
   ]
  },
  {
   "cell_type": "code",
   "execution_count": 135,
   "id": "fae72ed1",
   "metadata": {},
   "outputs": [],
   "source": [
    "dataset=dataset.dropna()"
   ]
  },
  {
   "cell_type": "markdown",
   "id": "a9a2bdb2",
   "metadata": {},
   "source": [
    "**Ahora trabajaremos con el dataset original.**\n",
    "\n",
    "**Para no eliminar valores outliers de modo general, se hizo un siglo for basandome en el tipo de propiedad y recorriendo todas las columnas numericas.**\n",
    "\n",
    "**Lo que quiero lograr es eliminar los outliers de cada tipo de propiedad ya que considero que son distintos por cada uno.**\n",
    "\n",
    "**A estos valores los convertimos en NaN para luego eliminarlos.**"
   ]
  },
  {
   "cell_type": "code",
   "execution_count": 136,
   "id": "4d50f104",
   "metadata": {},
   "outputs": [],
   "source": [
    "list_Tipo_propiedad=[\"Casa\",\"Departamento\",\"PH\",\"Casa de campo\",\"Depósito\",\"Local comercial\",\"Oficina\",\"Cochera\",\"Lote\",\"Otro\"]\n",
    "list_Column=[\"rooms\",\"bedrooms\",\"bathrooms\",\"surface_total\",\"surface_covered\",\"price\"]\n",
    "for i in list_Tipo_propiedad:\n",
    "    dataset[(dataset.property_type==i)]\n",
    "    for col in list_Column:\n",
    "        media=dataset[col].mean()\n",
    "        std=dataset[col].std()\n",
    "        res=(dataset[col]> (media + (3*std)))|(dataset[col]< (media - (3*std)))\n",
    "        dataset.loc[res,col]=np.nan"
   ]
  },
  {
   "cell_type": "markdown",
   "id": "be094f61",
   "metadata": {},
   "source": [
    "\n",
    "**Podemos ver en  la descripcion de los datos que los valores ya estan libres de outliers y son coherentes.**\n",
    "\n",
    "**(Aun no los hemos eliminado pero para las estadisticas no son considerados).**"
   ]
  },
  {
   "cell_type": "code",
   "execution_count": 137,
   "id": "ff0e8b22",
   "metadata": {},
   "outputs": [
    {
     "data": {
      "text/html": [
       "<div>\n",
       "<style scoped>\n",
       "    .dataframe tbody tr th:only-of-type {\n",
       "        vertical-align: middle;\n",
       "    }\n",
       "\n",
       "    .dataframe tbody tr th {\n",
       "        vertical-align: top;\n",
       "    }\n",
       "\n",
       "    .dataframe thead th {\n",
       "        text-align: right;\n",
       "    }\n",
       "</style>\n",
       "<table border=\"1\" class=\"dataframe\">\n",
       "  <thead>\n",
       "    <tr style=\"text-align: right;\">\n",
       "      <th></th>\n",
       "      <th>rooms</th>\n",
       "      <th>bedrooms</th>\n",
       "      <th>bathrooms</th>\n",
       "      <th>surface_total</th>\n",
       "      <th>surface_covered</th>\n",
       "      <th>price</th>\n",
       "    </tr>\n",
       "  </thead>\n",
       "  <tbody>\n",
       "    <tr>\n",
       "      <th>count</th>\n",
       "      <td>119989.000000</td>\n",
       "      <td>121870.000000</td>\n",
       "      <td>118149.000000</td>\n",
       "      <td>106007.000000</td>\n",
       "      <td>111035.000000</td>\n",
       "      <td>112050.000000</td>\n",
       "    </tr>\n",
       "    <tr>\n",
       "      <th>mean</th>\n",
       "      <td>3.016702</td>\n",
       "      <td>2.030976</td>\n",
       "      <td>1.479208</td>\n",
       "      <td>82.646372</td>\n",
       "      <td>72.833260</td>\n",
       "      <td>181740.351307</td>\n",
       "    </tr>\n",
       "    <tr>\n",
       "      <th>std</th>\n",
       "      <td>1.158054</td>\n",
       "      <td>0.991517</td>\n",
       "      <td>0.662080</td>\n",
       "      <td>43.845673</td>\n",
       "      <td>35.834333</td>\n",
       "      <td>92918.488310</td>\n",
       "    </tr>\n",
       "    <tr>\n",
       "      <th>min</th>\n",
       "      <td>1.000000</td>\n",
       "      <td>0.000000</td>\n",
       "      <td>1.000000</td>\n",
       "      <td>10.000000</td>\n",
       "      <td>1.000000</td>\n",
       "      <td>6000.000000</td>\n",
       "    </tr>\n",
       "    <tr>\n",
       "      <th>25%</th>\n",
       "      <td>2.000000</td>\n",
       "      <td>1.000000</td>\n",
       "      <td>1.000000</td>\n",
       "      <td>50.000000</td>\n",
       "      <td>45.000000</td>\n",
       "      <td>110000.000000</td>\n",
       "    </tr>\n",
       "    <tr>\n",
       "      <th>50%</th>\n",
       "      <td>3.000000</td>\n",
       "      <td>2.000000</td>\n",
       "      <td>1.000000</td>\n",
       "      <td>70.000000</td>\n",
       "      <td>63.000000</td>\n",
       "      <td>159500.000000</td>\n",
       "    </tr>\n",
       "    <tr>\n",
       "      <th>75%</th>\n",
       "      <td>4.000000</td>\n",
       "      <td>3.000000</td>\n",
       "      <td>2.000000</td>\n",
       "      <td>104.000000</td>\n",
       "      <td>91.000000</td>\n",
       "      <td>236000.000000</td>\n",
       "    </tr>\n",
       "    <tr>\n",
       "      <th>max</th>\n",
       "      <td>6.000000</td>\n",
       "      <td>5.000000</td>\n",
       "      <td>3.000000</td>\n",
       "      <td>217.000000</td>\n",
       "      <td>180.000000</td>\n",
       "      <td>460100.000000</td>\n",
       "    </tr>\n",
       "  </tbody>\n",
       "</table>\n",
       "</div>"
      ],
      "text/plain": [
       "               rooms       bedrooms      bathrooms  surface_total  \\\n",
       "count  119989.000000  121870.000000  118149.000000  106007.000000   \n",
       "mean        3.016702       2.030976       1.479208      82.646372   \n",
       "std         1.158054       0.991517       0.662080      43.845673   \n",
       "min         1.000000       0.000000       1.000000      10.000000   \n",
       "25%         2.000000       1.000000       1.000000      50.000000   \n",
       "50%         3.000000       2.000000       1.000000      70.000000   \n",
       "75%         4.000000       3.000000       2.000000     104.000000   \n",
       "max         6.000000       5.000000       3.000000     217.000000   \n",
       "\n",
       "       surface_covered          price  \n",
       "count    111035.000000  112050.000000  \n",
       "mean         72.833260  181740.351307  \n",
       "std          35.834333   92918.488310  \n",
       "min           1.000000    6000.000000  \n",
       "25%          45.000000  110000.000000  \n",
       "50%          63.000000  159500.000000  \n",
       "75%          91.000000  236000.000000  \n",
       "max         180.000000  460100.000000  "
      ]
     },
     "execution_count": 137,
     "metadata": {},
     "output_type": "execute_result"
    }
   ],
   "source": [
    "dataset.describe()"
   ]
  },
  {
   "cell_type": "markdown",
   "id": "7278e4cb",
   "metadata": {},
   "source": [
    "**Eliminamos  los Nan que son lo que corresponden a los Outliers.**"
   ]
  },
  {
   "cell_type": "code",
   "execution_count": 138,
   "id": "3da7e50c",
   "metadata": {},
   "outputs": [
    {
     "data": {
      "text/plain": [
       "Zona               0\n",
       "Localidad          0\n",
       "rooms              0\n",
       "bedrooms           0\n",
       "bathrooms          0\n",
       "surface_total      0\n",
       "surface_covered    0\n",
       "price              0\n",
       "property_type      0\n",
       "dtype: int64"
      ]
     },
     "execution_count": 138,
     "metadata": {},
     "output_type": "execute_result"
    }
   ],
   "source": [
    "dataset=dataset.dropna()\n",
    "dataset.isna().sum()"
   ]
  },
  {
   "cell_type": "markdown",
   "id": "402993ba",
   "metadata": {},
   "source": [
    "**Para una mayor seguridad graficamos los boxplots de las variables y volvemos a corroborar que estan correctos.** "
   ]
  },
  {
   "cell_type": "code",
   "execution_count": 139,
   "id": "9b1360e6",
   "metadata": {},
   "outputs": [
    {
     "data": {
      "image/png": "[encoded data removed]",
      "text/plain": [
       "<Figure size 1440x720 with 6 Axes>"
      ]
     },
     "metadata": {},
     "output_type": "display_data"
    }
   ],
   "source": [
    "sns.set()\n",
    "plt.figure(figsize=(20,10))\n",
    "plt.suptitle(\"Boxplots de las Variables\")\n",
    "plt.subplot(2,3,1)\n",
    "sns.boxplot(x=dataset[\"rooms\"],color=\"r\");plt.title(\"Boxplot rooms\");plt.xlabel(\"Cantidad de rooms\")\n",
    "plt.subplot(2,3,2)\n",
    "sns.boxplot(x=dataset[\"bedrooms\"],color=\"g\");plt.title(\"Boxplot bedrooms\");plt.xlabel(\"Cantidad de bedrooms\")\n",
    "plt.subplot(2,3,3)\n",
    "sns.boxplot(x=dataset[\"bathrooms\"],color=\"y\");plt.title(\"Boxplot bathrooms\");plt.xlabel(\"Cantidad de bathrooms\")\n",
    "plt.subplot(2,3,4)\n",
    "sns.boxplot(x=dataset[\"surface_covered\"],color=\"orange\");plt.title(\"Boxplot surface_covered\");plt.xlabel(\"Superficie cuvierta\")\n",
    "plt.subplot(2,3,5)\n",
    "sns.boxplot(x=dataset[\"surface_total\"],color=\"grey\");plt.title(\"Boxplot surface_total\");plt.xlabel(\"Superficie total\")\n",
    "plt.subplot(2,3,6)\n",
    "sns.boxplot(x=dataset[\"price\"],color=\"magenta\");plt.title(\"Boxplot price\");plt.xlabel(\"Escala de precios\")\n",
    "plt.show()"
   ]
  },
  {
   "cell_type": "markdown",
   "id": "5eeb9272",
   "metadata": {},
   "source": [
    "**Juntamos el dataset filtrado de los valores faltantes del dataset original  (nueva copia) y el dataset en el que recientemente eliminamos los outliers.**\n",
    "\n",
    "**Observamos de paso como cambio el porcentaje de los valores faltantes y vemos que aumento.**"
   ]
  },
  {
   "cell_type": "code",
   "execution_count": 140,
   "id": "84ceb890",
   "metadata": {},
   "outputs": [
    {
     "name": "stdout",
     "output_type": "stream",
     "text": [
      "(122371, 9)\n",
      "Zona 0.00%\n",
      "Localidad 0.00%\n",
      "rooms 0.00%\n",
      "bedrooms 0.00%\n",
      "bathrooms 4.87%\n",
      "surface_total 16.77%\n",
      "surface_covered 17.66%\n",
      "price 0.00%\n",
      "property_type 0.00%\n"
     ]
    }
   ],
   "source": [
    "dataset=dataset.append(datasetA)\n",
    "print(dataset.shape)\n",
    "for col in dataset.columns:\n",
    "    nulos=dataset[col].isna().sum()\n",
    "    print(col, \"{:.2f}%\".format(nulos*100/122423))"
   ]
  },
  {
   "cell_type": "markdown",
   "id": "9471988f",
   "metadata": {},
   "source": [
    "**Ahora se nos presenta la duda si con los datos adjuntos tenemos nuevos outliers ya que al ser dos dataset unidos y solo haber trabajado outliers en uno, es logico que hayan aparecido, por los que vamos a volver a graficar los  boxplot de los atributos numericos.**"
   ]
  },
  {
   "cell_type": "code",
   "execution_count": 141,
   "id": "f1b1adcf",
   "metadata": {},
   "outputs": [
    {
     "data": {
      "image/png": "[encoded data removed]",
      "text/plain": [
       "<Figure size 1440x720 with 6 Axes>"
      ]
     },
     "metadata": {},
     "output_type": "display_data"
    }
   ],
   "source": [
    "sns.set()\n",
    "plt.figure(figsize=(20,10))\n",
    "plt.suptitle(\"Boxplots de las Variables\")\n",
    "plt.subplot(2,3,1)\n",
    "sns.boxplot(x=dataset[\"rooms\"],color=\"r\");plt.title(\"Boxplot rooms\");plt.xlabel(\"Cantidad de rooms\")\n",
    "plt.subplot(2,3,2)\n",
    "sns.boxplot(x=dataset[\"bedrooms\"],color=\"g\");plt.title(\"Boxplot bedrooms\");plt.xlabel(\"Cantidad de bedrooms\")\n",
    "plt.subplot(2,3,3)\n",
    "sns.boxplot(x=dataset[\"bathrooms\"],color=\"y\");plt.title(\"Boxplot bathrooms\");plt.xlabel(\"Cantidad de bathrooms\")\n",
    "plt.subplot(2,3,4)\n",
    "sns.boxplot(x=dataset[\"surface_covered\"],color=\"orange\");plt.title(\"Boxplot surface_covered\");plt.xlabel(\"Superficie cuvierta\")\n",
    "plt.subplot(2,3,5)\n",
    "sns.boxplot(x=dataset[\"surface_total\"],color=\"grey\");plt.title(\"Boxplot surface_total\");plt.xlabel(\"Superficie total\")\n",
    "plt.subplot(2,3,6)\n",
    "sns.boxplot(x=dataset[\"price\"],color=\"magenta\");plt.title(\"Boxplot price\");plt.xlabel(\"Escala de precios\")\n",
    "plt.show()"
   ]
  },
  {
   "cell_type": "markdown",
   "id": "72bf75c8",
   "metadata": {},
   "source": [
    "**Las nuevas instancias agregan valores muy dispersos en las variables \"surface_total\", \"surface_covered\" y \"price\".**\n",
    "\n",
    "**Para solucionar esto vamos a usar la tecnica de IQR.**"
   ]
  },
  {
   "cell_type": "code",
   "execution_count": 142,
   "id": "fdb0269d",
   "metadata": {},
   "outputs": [
    {
     "name": "stdout",
     "output_type": "stream",
     "text": [
      "BI_surface_T: -25.5\n",
      "BS_surface_T: 170.5\n"
     ]
    }
   ],
   "source": [
    "Q1_surface_T=dataset[\"surface_total\"].quantile(0.25)\n",
    "Q3_surface_T=dataset[\"surface_total\"].quantile(0.75)\n",
    "IQR=Q3_surface_T-Q1_surface_T\n",
    "BI_surface_T=(Q1_surface_T-1.5*IQR)\n",
    "BS_surface_T=(Q3_surface_T+1.5*IQR)\n",
    "print(\"BI_surface_T:\",BI_surface_T)\n",
    "print(\"BS_surface_T:\",BS_surface_T)"
   ]
  },
  {
   "cell_type": "code",
   "execution_count": 143,
   "id": "c8705e9b",
   "metadata": {},
   "outputs": [
    {
     "name": "stdout",
     "output_type": "stream",
     "text": [
      "BI_surface_C: -10.0\n",
      "BS_surface_C: 134.0\n"
     ]
    }
   ],
   "source": [
    "Q1_surface_C=dataset[\"surface_covered\"].quantile(0.25)\n",
    "Q3_surface_C=dataset[\"surface_covered\"].quantile(0.75)\n",
    "IQR=Q3_surface_C-Q1_surface_C\n",
    "BI_surface_C=(Q1_surface_C-1.5*IQR)\n",
    "BS_surface_C=(Q3_surface_C+1.5*IQR)\n",
    "print(\"BI_surface_C:\",BI_surface_C)\n",
    "print(\"BS_surface_C:\",BS_surface_C)"
   ]
  },
  {
   "cell_type": "code",
   "execution_count": 144,
   "id": "99f781d3",
   "metadata": {},
   "outputs": [
    {
     "name": "stdout",
     "output_type": "stream",
     "text": [
      "BI_price: -81000.0\n",
      "BS_price: 415000.0\n"
     ]
    }
   ],
   "source": [
    "Q1_price=dataset[\"price\"].quantile(0.25)\n",
    "Q3_price=dataset[\"price\"].quantile(0.75)\n",
    "IQR=Q3_price-Q1_price\n",
    "BI_price=(Q1_price-1.5*IQR)\n",
    "BS_price=(Q3_price+1.5*IQR)\n",
    "print(\"BI_price:\",BI_price)\n",
    "print(\"BS_price:\",BS_price)"
   ]
  },
  {
   "cell_type": "code",
   "execution_count": 145,
   "id": "7b91d406",
   "metadata": {},
   "outputs": [],
   "source": [
    "dataset=dataset[(dataset[\"surface_total\"]<=171)] \n",
    "dataset=dataset[(dataset[\"surface_covered\"]<=134)] \n",
    "dataset=dataset[(dataset[\"price\"]<=414855)] "
   ]
  },
  {
   "cell_type": "markdown",
   "id": "6b60a9d8",
   "metadata": {},
   "source": [
    "**Observamos que las distribuciones tanto en los histogramas como en los boxplot son adecuadas.** "
   ]
  },
  {
   "cell_type": "code",
   "execution_count": 146,
   "id": "66556569",
   "metadata": {},
   "outputs": [
    {
     "data": {
      "image/png": "[encoded data removed]",
      "text/plain": [
       "<Figure size 1080x1800 with 6 Axes>"
      ]
     },
     "metadata": {},
     "output_type": "display_data"
    }
   ],
   "source": [
    "sns.set()\n",
    "plt.figure(figsize=(15,25))\n",
    "plt.suptitle(\"Histogramas y Boxplots de las Variables\")\n",
    "plt.subplot(3,2,1)\n",
    "sns.histplot(x=dataset[\"surface_covered\"],bins=20,color=\"orange\",kde=True);plt.title(\"Distribucion de surface_covered\")\n",
    "plt.subplot(3,2,2)\n",
    "sns.boxplot(x=dataset[\"surface_covered\"],color=\"orange\");plt.title(\"Boxplot surface_covered\");plt.xlabel(\"Superficie surface_covered\")\n",
    "plt.subplot(3,2,3)\n",
    "sns.histplot(x=dataset[\"surface_total\"],bins=20,color=\"grey\",kde=True);plt.title(\"Distribucion de surface_total\")\n",
    "plt.subplot(3,2,4)\n",
    "sns.boxplot(x=dataset[\"surface_total\"],color=\"grey\");plt.title(\"Boxplot surface_total\");plt.xlabel(\"Superficie total\")\n",
    "plt.subplot(3,2,5)\n",
    "sns.histplot(x=dataset[\"price\"],bins=20,color=\"magenta\",kde=True);plt.title(\"Distribucion de price\")\n",
    "plt.subplot(3,2,6)\n",
    "sns.boxplot(x=dataset[\"price\"],color=\"magenta\");plt.title(\"Boxplot price\");plt.xlabel(\"Escala de precios\")\n",
    "plt.show()"
   ]
  },
  {
   "cell_type": "markdown",
   "id": "ea686140",
   "metadata": {},
   "source": [
    "## Imputacion de valores faltantes"
   ]
  },
  {
   "cell_type": "markdown",
   "id": "9219d1eb",
   "metadata": {},
   "source": [
    "**Notamos que aun hay valores faltantes en la variable Bathrooms los cuales vamos a imputar.**\n",
    "\n",
    "**Tambien corroboramos la coherencia de los estaditicos.**"
   ]
  },
  {
   "cell_type": "code",
   "execution_count": 147,
   "id": "e9d340fd",
   "metadata": {
    "scrolled": true
   },
   "outputs": [
    {
     "name": "stdout",
     "output_type": "stream",
     "text": [
      "(93161, 9)\n",
      "Zona 0.00%\n",
      "Localidad 0.00%\n",
      "rooms 0.00%\n",
      "bedrooms 0.00%\n",
      "bathrooms 1.26%\n",
      "surface_total 0.00%\n",
      "surface_covered 0.00%\n",
      "price 0.00%\n",
      "property_type 0.00%\n"
     ]
    },
    {
     "data": {
      "text/html": [
       "<div>\n",
       "<style scoped>\n",
       "    .dataframe tbody tr th:only-of-type {\n",
       "        vertical-align: middle;\n",
       "    }\n",
       "\n",
       "    .dataframe tbody tr th {\n",
       "        vertical-align: top;\n",
       "    }\n",
       "\n",
       "    .dataframe thead th {\n",
       "        text-align: right;\n",
       "    }\n",
       "</style>\n",
       "<table border=\"1\" class=\"dataframe\">\n",
       "  <thead>\n",
       "    <tr style=\"text-align: right;\">\n",
       "      <th></th>\n",
       "      <th>rooms</th>\n",
       "      <th>bedrooms</th>\n",
       "      <th>bathrooms</th>\n",
       "      <th>surface_total</th>\n",
       "      <th>surface_covered</th>\n",
       "      <th>price</th>\n",
       "    </tr>\n",
       "  </thead>\n",
       "  <tbody>\n",
       "    <tr>\n",
       "      <th>count</th>\n",
       "      <td>93161.000000</td>\n",
       "      <td>93161.000000</td>\n",
       "      <td>91955.000000</td>\n",
       "      <td>93161.000000</td>\n",
       "      <td>93161.000000</td>\n",
       "      <td>93161.000000</td>\n",
       "    </tr>\n",
       "    <tr>\n",
       "      <th>mean</th>\n",
       "      <td>2.646880</td>\n",
       "      <td>1.700561</td>\n",
       "      <td>1.307063</td>\n",
       "      <td>70.481103</td>\n",
       "      <td>61.254431</td>\n",
       "      <td>166019.826913</td>\n",
       "    </tr>\n",
       "    <tr>\n",
       "      <th>std</th>\n",
       "      <td>0.927077</td>\n",
       "      <td>0.779024</td>\n",
       "      <td>0.527221</td>\n",
       "      <td>30.235493</td>\n",
       "      <td>23.768340</td>\n",
       "      <td>78727.985092</td>\n",
       "    </tr>\n",
       "    <tr>\n",
       "      <th>min</th>\n",
       "      <td>1.000000</td>\n",
       "      <td>0.000000</td>\n",
       "      <td>1.000000</td>\n",
       "      <td>10.000000</td>\n",
       "      <td>1.000000</td>\n",
       "      <td>7500.000000</td>\n",
       "    </tr>\n",
       "    <tr>\n",
       "      <th>25%</th>\n",
       "      <td>2.000000</td>\n",
       "      <td>1.000000</td>\n",
       "      <td>1.000000</td>\n",
       "      <td>47.000000</td>\n",
       "      <td>43.000000</td>\n",
       "      <td>105000.000000</td>\n",
       "    </tr>\n",
       "    <tr>\n",
       "      <th>50%</th>\n",
       "      <td>3.000000</td>\n",
       "      <td>2.000000</td>\n",
       "      <td>1.000000</td>\n",
       "      <td>64.000000</td>\n",
       "      <td>56.000000</td>\n",
       "      <td>149000.000000</td>\n",
       "    </tr>\n",
       "    <tr>\n",
       "      <th>75%</th>\n",
       "      <td>3.000000</td>\n",
       "      <td>2.000000</td>\n",
       "      <td>2.000000</td>\n",
       "      <td>88.000000</td>\n",
       "      <td>75.000000</td>\n",
       "      <td>215000.000000</td>\n",
       "    </tr>\n",
       "    <tr>\n",
       "      <th>max</th>\n",
       "      <td>7.000000</td>\n",
       "      <td>6.000000</td>\n",
       "      <td>3.000000</td>\n",
       "      <td>171.000000</td>\n",
       "      <td>134.000000</td>\n",
       "      <td>414000.000000</td>\n",
       "    </tr>\n",
       "  </tbody>\n",
       "</table>\n",
       "</div>"
      ],
      "text/plain": [
       "              rooms      bedrooms     bathrooms  surface_total  \\\n",
       "count  93161.000000  93161.000000  91955.000000   93161.000000   \n",
       "mean       2.646880      1.700561      1.307063      70.481103   \n",
       "std        0.927077      0.779024      0.527221      30.235493   \n",
       "min        1.000000      0.000000      1.000000      10.000000   \n",
       "25%        2.000000      1.000000      1.000000      47.000000   \n",
       "50%        3.000000      2.000000      1.000000      64.000000   \n",
       "75%        3.000000      2.000000      2.000000      88.000000   \n",
       "max        7.000000      6.000000      3.000000     171.000000   \n",
       "\n",
       "       surface_covered          price  \n",
       "count     93161.000000   93161.000000  \n",
       "mean         61.254431  166019.826913  \n",
       "std          23.768340   78727.985092  \n",
       "min           1.000000    7500.000000  \n",
       "25%          43.000000  105000.000000  \n",
       "50%          56.000000  149000.000000  \n",
       "75%          75.000000  215000.000000  \n",
       "max         134.000000  414000.000000  "
      ]
     },
     "execution_count": 147,
     "metadata": {},
     "output_type": "execute_result"
    }
   ],
   "source": [
    "print(dataset.shape)\n",
    "for col in dataset.columns:\n",
    "    nulos=dataset[col].isna().sum()\n",
    "    print(col, \"{:.2f}%\".format(nulos*100/95573))\n",
    "\n",
    "dataset.describe()"
   ]
  },
  {
   "cell_type": "markdown",
   "id": "605b1459",
   "metadata": {},
   "source": [
    "**Consultamos en que tipo de propiedad quedaron valores nulos, para hacer la imputacion de los mismo y no hacer un esfuerzo improductivo de programar el de todos los tipos.**"
   ]
  },
  {
   "cell_type": "code",
   "execution_count": 148,
   "id": "47377ea4",
   "metadata": {},
   "outputs": [
    {
     "data": {
      "text/html": [
       "<div>\n",
       "<style scoped>\n",
       "    .dataframe tbody tr th:only-of-type {\n",
       "        vertical-align: middle;\n",
       "    }\n",
       "\n",
       "    .dataframe tbody tr th {\n",
       "        vertical-align: top;\n",
       "    }\n",
       "\n",
       "    .dataframe thead th {\n",
       "        text-align: right;\n",
       "    }\n",
       "</style>\n",
       "<table border=\"1\" class=\"dataframe\">\n",
       "  <thead>\n",
       "    <tr style=\"text-align: right;\">\n",
       "      <th></th>\n",
       "      <th>bathrooms</th>\n",
       "    </tr>\n",
       "    <tr>\n",
       "      <th>property_type</th>\n",
       "      <th></th>\n",
       "    </tr>\n",
       "  </thead>\n",
       "  <tbody>\n",
       "    <tr>\n",
       "      <th>Casa</th>\n",
       "      <td>0.0</td>\n",
       "    </tr>\n",
       "    <tr>\n",
       "      <th>Departamento</th>\n",
       "      <td>0.0</td>\n",
       "    </tr>\n",
       "    <tr>\n",
       "      <th>Local comercial</th>\n",
       "      <td>0.0</td>\n",
       "    </tr>\n",
       "    <tr>\n",
       "      <th>Oficina</th>\n",
       "      <td>0.0</td>\n",
       "    </tr>\n",
       "    <tr>\n",
       "      <th>PH</th>\n",
       "      <td>0.0</td>\n",
       "    </tr>\n",
       "  </tbody>\n",
       "</table>\n",
       "</div>"
      ],
      "text/plain": [
       "                 bathrooms\n",
       "property_type             \n",
       "Casa                   0.0\n",
       "Departamento           0.0\n",
       "Local comercial        0.0\n",
       "Oficina                0.0\n",
       "PH                     0.0"
      ]
     },
     "execution_count": 148,
     "metadata": {},
     "output_type": "execute_result"
    }
   ],
   "source": [
    "Consulta_isna_bathrooms=dataset[(dataset[\"bathrooms\"].isnull())]\n",
    "Consulta_isna_bathrooms=Consulta_isna_bathrooms[[\"bathrooms\",\"property_type\"]].groupby(\"property_type\").sum()\n",
    "Consulta_isna_bathrooms"
   ]
  },
  {
   "cell_type": "markdown",
   "id": "da9fbbae",
   "metadata": {},
   "source": [
    "**Imputamos los valores faltantes de la variable Bathrooms con la mediana en los tipos de propiedad correspondientes.Generando distintos dataset que luego uniremos en uno nuevo.**"
   ]
  },
  {
   "cell_type": "code",
   "execution_count": 149,
   "id": "0016388b",
   "metadata": {},
   "outputs": [],
   "source": [
    "dataset_bathrooms_Casa=dataset[(dataset.property_type==\"Casa\") ]\n",
    "bathroomsMedian_Casa=dataset_bathrooms_Casa[[\"bathrooms\",\"Localidad\"]].groupby(\"Localidad\").agg(pd.Series.median)\n",
    "bathroomsMedian_Casa.to_dict()\n",
    "dataset_bathrooms_Casa=dataset_bathrooms_Casa.set_index(\"Localidad\")\n",
    "dataset_bathrooms_Casa.bathrooms.fillna(bathroomsMedian_Casa.to_dict()[\"bathrooms\"],inplace=True)\n",
    "dataset_bathrooms_Casa.reset_index(inplace=True)"
   ]
  },
  {
   "cell_type": "code",
   "execution_count": 150,
   "id": "d96fd00e",
   "metadata": {},
   "outputs": [],
   "source": [
    "dataset_bathrooms_Departamento=dataset[(dataset.property_type==\"Departamento\")]\n",
    "bathroomsMedian_Departamento=dataset_bathrooms_Departamento[[\"bathrooms\",\"Localidad\"]].groupby(\"Localidad\").agg(pd.Series.median)\n",
    "bathroomsMedian_Departamento.to_dict()\n",
    "dataset_bathrooms_Departamento=dataset_bathrooms_Departamento.set_index(\"Localidad\")\n",
    "dataset_bathrooms_Departamento.bathrooms.fillna(bathroomsMedian_Departamento.to_dict()[\"bathrooms\"],inplace=True)\n",
    "dataset_bathrooms_Departamento.reset_index(inplace=True)"
   ]
  },
  {
   "cell_type": "code",
   "execution_count": 151,
   "id": "f4931a49",
   "metadata": {},
   "outputs": [],
   "source": [
    "dataset_bathrooms_PH=dataset[(dataset.property_type==\"PH\")]\n",
    "bathroomsMedian_PH=dataset_bathrooms_PH[[\"bathrooms\",\"Localidad\"]].groupby(\"Localidad\").agg(pd.Series.median)\n",
    "bathroomsMedian_PH.to_dict()\n",
    "dataset_bathrooms_PH=dataset_bathrooms_PH.set_index(\"Localidad\")\n",
    "dataset_bathrooms_PH.bathrooms.fillna(bathroomsMedian_PH.to_dict()[\"bathrooms\"],inplace=True)\n",
    "dataset_bathrooms_PH.reset_index(inplace=True)"
   ]
  },
  {
   "cell_type": "code",
   "execution_count": 152,
   "id": "01c2636c",
   "metadata": {},
   "outputs": [],
   "source": [
    "dataset_bathrooms_Localcomercial=dataset[(dataset.property_type==\"Local comercial\")]\n",
    "bathroomsMedian_Localcomercial=dataset_bathrooms_Localcomercial[[\"bathrooms\",\"Localidad\"]].groupby(\"Localidad\").agg(pd.Series.median)\n",
    "bathroomsMedian_Localcomercial.to_dict()\n",
    "dataset_bathrooms_Localcomercial=dataset_bathrooms_Localcomercial.set_index(\"Localidad\")\n",
    "dataset_bathrooms_Localcomercial.bathrooms.fillna(bathroomsMedian_Localcomercial.to_dict()[\"bathrooms\"],inplace=True)\n",
    "dataset_bathrooms_Localcomercial.reset_index(inplace=True)"
   ]
  },
  {
   "cell_type": "markdown",
   "id": "9e8f5373",
   "metadata": {},
   "source": [
    "Quedaron NaN ya que no se pudieron completar por que no existia mediana en ciertas Localidades te este Tipo de propiedad."
   ]
  },
  {
   "cell_type": "code",
   "execution_count": 153,
   "id": "0d8ffa25",
   "metadata": {},
   "outputs": [],
   "source": [
    "dataset_bathrooms_Localcomercial.bathrooms.median()\n",
    "dataset_bathrooms_Localcomercial.bathrooms.fillna(dataset_bathrooms_Localcomercial.bathrooms.median(),inplace=True)"
   ]
  },
  {
   "cell_type": "code",
   "execution_count": 154,
   "id": "0a46f368",
   "metadata": {},
   "outputs": [],
   "source": [
    "dataset_bathrooms_Oficina=dataset[(dataset.property_type==\"Oficina\")]\n",
    "bathroomsMedian_Oficina=dataset_bathrooms_Oficina[[\"bathrooms\",\"Localidad\"]].groupby(\"Localidad\").agg(pd.Series.median)\n",
    "bathroomsMedian_Oficina.to_dict()\n",
    "dataset_bathrooms_Oficina=dataset_bathrooms_Oficina.set_index(\"Localidad\")\n",
    "dataset_bathrooms_Oficina.bathrooms.fillna(bathroomsMedian_Oficina.to_dict()[\"bathrooms\"],inplace=True)\n",
    "dataset_bathrooms_Oficina.reset_index(inplace=True)"
   ]
  },
  {
   "cell_type": "code",
   "execution_count": 155,
   "id": "751e4c53",
   "metadata": {},
   "outputs": [],
   "source": [
    "dataset1=dataset_bathrooms_Casa.append(dataset_bathrooms_Departamento)\n",
    "dataset1=dataset1.append(dataset_bathrooms_PH)\n",
    "dataset1=dataset1.append(dataset_bathrooms_Localcomercial)\n",
    "dataset1=dataset1.append(dataset_bathrooms_Oficina)"
   ]
  },
  {
   "cell_type": "markdown",
   "id": "3af49110",
   "metadata": {},
   "source": [
    "**Nos aseguramos que no haya superficies cuviertas mayores que superficies totales.**"
   ]
  },
  {
   "cell_type": "code",
   "execution_count": 156,
   "id": "a6146e1c",
   "metadata": {},
   "outputs": [],
   "source": [
    "dataset1[\"surface_covered\"]=np.where((dataset1[\"surface_covered\"].values) > (dataset1[\"surface_total\"].values),(dataset1[\"surface_total\"].values),(dataset1[\"surface_covered\"].values))"
   ]
  },
  {
   "cell_type": "markdown",
   "id": "134e6ca9",
   "metadata": {},
   "source": [
    "**Nos quedaron 93115 instancias y 9 atributos.**\n",
    "\n",
    "**Ya no tenemos valores faltantes.**\n",
    "\n",
    "**Observamos que tenemos tres variables Objeto, las cuales son las que vamos a transformar a continuacion.**"
   ]
  },
  {
   "cell_type": "code",
   "execution_count": 157,
   "id": "5300875a",
   "metadata": {
    "scrolled": true
   },
   "outputs": [
    {
     "name": "stdout",
     "output_type": "stream",
     "text": [
      "Localidad          0\n",
      "Zona               0\n",
      "rooms              0\n",
      "bedrooms           0\n",
      "bathrooms          0\n",
      "surface_total      0\n",
      "surface_covered    0\n",
      "price              0\n",
      "property_type      0\n",
      "dtype: int64\n",
      "<class 'pandas.core.frame.DataFrame'>\n",
      "Int64Index: 93115 entries, 0 to 323\n",
      "Data columns (total 9 columns):\n",
      " #   Column           Non-Null Count  Dtype  \n",
      "---  ------           --------------  -----  \n",
      " 0   Localidad        93115 non-null  object \n",
      " 1   Zona             93115 non-null  object \n",
      " 2   rooms            93115 non-null  float64\n",
      " 3   bedrooms         93115 non-null  float64\n",
      " 4   bathrooms        93115 non-null  float64\n",
      " 5   surface_total    93115 non-null  float64\n",
      " 6   surface_covered  93115 non-null  float64\n",
      " 7   price            93115 non-null  float64\n",
      " 8   property_type    93115 non-null  object \n",
      "dtypes: float64(6), object(3)\n",
      "memory usage: 7.1+ MB\n",
      "None\n"
     ]
    },
    {
     "data": {
      "text/html": [
       "<div>\n",
       "<style scoped>\n",
       "    .dataframe tbody tr th:only-of-type {\n",
       "        vertical-align: middle;\n",
       "    }\n",
       "\n",
       "    .dataframe tbody tr th {\n",
       "        vertical-align: top;\n",
       "    }\n",
       "\n",
       "    .dataframe thead th {\n",
       "        text-align: right;\n",
       "    }\n",
       "</style>\n",
       "<table border=\"1\" class=\"dataframe\">\n",
       "  <thead>\n",
       "    <tr style=\"text-align: right;\">\n",
       "      <th></th>\n",
       "      <th>Localidad</th>\n",
       "      <th>Zona</th>\n",
       "      <th>rooms</th>\n",
       "      <th>bedrooms</th>\n",
       "      <th>bathrooms</th>\n",
       "      <th>surface_total</th>\n",
       "      <th>surface_covered</th>\n",
       "      <th>price</th>\n",
       "      <th>property_type</th>\n",
       "    </tr>\n",
       "  </thead>\n",
       "  <tbody>\n",
       "    <tr>\n",
       "      <th>0</th>\n",
       "      <td>Tigre</td>\n",
       "      <td>Bs.As. G.B.A. Zona Norte</td>\n",
       "      <td>3.0</td>\n",
       "      <td>2.0</td>\n",
       "      <td>2.0</td>\n",
       "      <td>89.0</td>\n",
       "      <td>79.0</td>\n",
       "      <td>219000.0</td>\n",
       "      <td>Casa</td>\n",
       "    </tr>\n",
       "    <tr>\n",
       "      <th>1</th>\n",
       "      <td>San Cristobal</td>\n",
       "      <td>Capital Federal</td>\n",
       "      <td>3.0</td>\n",
       "      <td>1.0</td>\n",
       "      <td>2.0</td>\n",
       "      <td>116.0</td>\n",
       "      <td>116.0</td>\n",
       "      <td>290000.0</td>\n",
       "      <td>Casa</td>\n",
       "    </tr>\n",
       "  </tbody>\n",
       "</table>\n",
       "</div>"
      ],
      "text/plain": [
       "       Localidad                      Zona  rooms  bedrooms  bathrooms  \\\n",
       "0          Tigre  Bs.As. G.B.A. Zona Norte    3.0       2.0        2.0   \n",
       "1  San Cristobal           Capital Federal    3.0       1.0        2.0   \n",
       "\n",
       "   surface_total  surface_covered     price property_type  \n",
       "0           89.0             79.0  219000.0          Casa  \n",
       "1          116.0            116.0  290000.0          Casa  "
      ]
     },
     "execution_count": 157,
     "metadata": {},
     "output_type": "execute_result"
    }
   ],
   "source": [
    "print(dataset1.isna().sum())\n",
    "print(dataset1.info())\n",
    "dataset1.head(2)"
   ]
  },
  {
   "cell_type": "markdown",
   "id": "16c0a378",
   "metadata": {},
   "source": [
    "## Transformaciones de las columnas Dtype \"Object\"."
   ]
  },
  {
   "cell_type": "markdown",
   "id": "caf62ed3",
   "metadata": {},
   "source": [
    "**La primera variable a transformar es \"Property_Type\" de la cual vamos a considerar -Departamente-, -PH-, -Casa- que son las que mas instancias tienen y las demas como -Otros-.**\n",
    "**Para esto haremos mas adelante un Dummy.** \n"
   ]
  },
  {
   "cell_type": "code",
   "execution_count": 158,
   "id": "4d0a8d0c",
   "metadata": {},
   "outputs": [
    {
     "data": {
      "text/plain": [
       "{'Departamento': 79894, 'PH': 10547, 'Casa': 2336}"
      ]
     },
     "execution_count": 158,
     "metadata": {},
     "output_type": "execute_result"
    }
   ],
   "source": [
    "dicc_tipo=dataset1[\"property_type\"].value_counts().iloc[0:3].to_dict()\n",
    "dicc_tipo"
   ]
  },
  {
   "cell_type": "code",
   "execution_count": 159,
   "id": "a5995c2b",
   "metadata": {},
   "outputs": [
    {
     "data": {
      "text/plain": [
       "{'Departamento': 'Departamento', 'PH': 'PH', 'Casa': 'Casa'}"
      ]
     },
     "execution_count": 159,
     "metadata": {},
     "output_type": "execute_result"
    }
   ],
   "source": [
    "n_dicc_tipo={}\n",
    "for clave in dicc_tipo.keys():\n",
    "    n_dicc_tipo[clave]=clave\n",
    "n_dicc_tipo"
   ]
  },
  {
   "cell_type": "code",
   "execution_count": 160,
   "id": "b811013e",
   "metadata": {},
   "outputs": [],
   "source": [
    "dataset1.property_type=dataset1.property_type.map(n_dicc_tipo)\n",
    "dataset1.fillna(\"Otros\", inplace=True)"
   ]
  },
  {
   "cell_type": "markdown",
   "id": "7a0c7715",
   "metadata": {},
   "source": [
    "**La segunda variable a transformar es \"Zona\" de la cual vamos a considerar -Capital Federal- como la clasificacion con mas instancia y las demas como -Otros-. Para esto haremos mas adelante un Dummy.**"
   ]
  },
  {
   "cell_type": "code",
   "execution_count": 161,
   "id": "9e396d07",
   "metadata": {},
   "outputs": [
    {
     "data": {
      "text/plain": [
       "Capital Federal             66904\n",
       "Bs.As. G.B.A. Zona Norte    14674\n",
       "Bs.As. G.B.A. Zona Sur       6283\n",
       "Bs.As. G.B.A. Zona Oeste     5254\n",
       "Name: Zona, dtype: int64"
      ]
     },
     "execution_count": 161,
     "metadata": {},
     "output_type": "execute_result"
    }
   ],
   "source": [
    "dataset1.Zona.value_counts()"
   ]
  },
  {
   "cell_type": "code",
   "execution_count": 162,
   "id": "980a1cd1",
   "metadata": {},
   "outputs": [
    {
     "data": {
      "text/plain": [
       "{'Capital Federal': 'Capital Federal'}"
      ]
     },
     "execution_count": 162,
     "metadata": {},
     "output_type": "execute_result"
    }
   ],
   "source": [
    "n_dicc_zona={\"Capital Federal\":\"Capital Federal\"}\n",
    "n_dicc_zona"
   ]
  },
  {
   "cell_type": "code",
   "execution_count": 163,
   "id": "eac9b626",
   "metadata": {},
   "outputs": [],
   "source": [
    "dataset1.Zona=dataset1.Zona.map(n_dicc_zona)\n"
   ]
  },
  {
   "cell_type": "code",
   "execution_count": 164,
   "id": "fd3bd4e6",
   "metadata": {},
   "outputs": [
    {
     "data": {
      "text/plain": [
       "Capital Federal    66904\n",
       "Name: Zona, dtype: int64"
      ]
     },
     "execution_count": 164,
     "metadata": {},
     "output_type": "execute_result"
    }
   ],
   "source": [
    "dataset1.Zona.value_counts()"
   ]
  },
  {
   "cell_type": "code",
   "execution_count": 165,
   "id": "37bae027",
   "metadata": {},
   "outputs": [],
   "source": [
    "dataset1.fillna(\"Otros\", inplace=True)"
   ]
  },
  {
   "cell_type": "code",
   "execution_count": 166,
   "id": "4095ec4c",
   "metadata": {},
   "outputs": [
    {
     "data": {
      "text/plain": [
       "Capital Federal    66904\n",
       "Otros              26211\n",
       "Name: Zona, dtype: int64"
      ]
     },
     "execution_count": 166,
     "metadata": {},
     "output_type": "execute_result"
    }
   ],
   "source": [
    "dataset1.Zona.value_counts()"
   ]
  },
  {
   "cell_type": "markdown",
   "id": "67f7e155",
   "metadata": {},
   "source": [
    "**Aplicamos dummy a las variables \"Zona\" y \"Property_Type\".**"
   ]
  },
  {
   "cell_type": "code",
   "execution_count": 167,
   "id": "ed774256",
   "metadata": {},
   "outputs": [],
   "source": [
    "zona_dummy=pd.get_dummies(dataset1[\"Zona\"],prefix=\"Zona\")\n",
    "property_type_dummy=pd.get_dummies(dataset1[\"property_type\"],prefix=\"Tipo_Propiedada\")"
   ]
  },
  {
   "cell_type": "code",
   "execution_count": 168,
   "id": "e1f6fd12",
   "metadata": {},
   "outputs": [],
   "source": [
    "dataset1=pd.concat([dataset1,zona_dummy],axis=1)\n",
    "dataset1=pd.concat([dataset1,property_type_dummy],axis=1)"
   ]
  },
  {
   "cell_type": "markdown",
   "id": "c4e5ad77",
   "metadata": {},
   "source": [
    "Aqui descartamos las columnas originales de \"Zona\" y \"property_type\"."
   ]
  },
  {
   "cell_type": "code",
   "execution_count": 169,
   "id": "c5edcb3b",
   "metadata": {
    "scrolled": true
   },
   "outputs": [
    {
     "name": "stdout",
     "output_type": "stream",
     "text": [
      "(93115, 13)\n"
     ]
    }
   ],
   "source": [
    "columnas_descartar=[\"Zona\",\"property_type\"]\n",
    "dataset1=dataset1.drop(columns=columnas_descartar)\n",
    "print(dataset1.shape)"
   ]
  },
  {
   "cell_type": "markdown",
   "id": "e776c069",
   "metadata": {},
   "source": [
    "**Ahora transformaremos la variable categorica \"Localidad\" en una variable numerica, aqui no utilizaremos Dummy ya que hay una gran cantidad y nos hara que el dataset se agrande mucho.**\n",
    "\n",
    "**Haremos el promedio del valor del metro cuadrado por localidad, una medida que consideramos que tiene razonabilidad para transformar numericamente esta variable.**"
   ]
  },
  {
   "cell_type": "code",
   "execution_count": 171,
   "id": "ecb9904c",
   "metadata": {},
   "outputs": [],
   "source": [
    "def metrocuadrado(fila):\n",
    "    resultado=fila[\"price\"]/fila['surface_total']\n",
    "    return resultado"
   ]
  },
  {
   "cell_type": "code",
   "execution_count": 172,
   "id": "22a31d2f",
   "metadata": {},
   "outputs": [],
   "source": [
    "dataset1[\"m2\"]=dataset1.apply(metrocuadrado,axis=1)"
   ]
  },
  {
   "cell_type": "code",
   "execution_count": 173,
   "id": "aa3f27b7",
   "metadata": {
    "scrolled": true
   },
   "outputs": [],
   "source": [
    "mean_m2_Localidad=dataset1[[\"m2\",\"Localidad\"]].groupby(\"Localidad\").mean()"
   ]
  },
  {
   "cell_type": "code",
   "execution_count": 174,
   "id": "e058b11d",
   "metadata": {},
   "outputs": [],
   "source": [
    "dataset1.Localidad=dataset1.Localidad.map(mean_m2_Localidad.to_dict()[\"m2\"])"
   ]
  },
  {
   "cell_type": "code",
   "execution_count": 175,
   "id": "2fda5058",
   "metadata": {},
   "outputs": [
    {
     "data": {
      "text/plain": [
       "(93115, 14)"
      ]
     },
     "execution_count": 175,
     "metadata": {},
     "output_type": "execute_result"
    }
   ],
   "source": [
    "dataset1.shape"
   ]
  },
  {
   "cell_type": "code",
   "execution_count": 176,
   "id": "889375a4",
   "metadata": {},
   "outputs": [
    {
     "name": "stdout",
     "output_type": "stream",
     "text": [
      "(93115, 13)\n"
     ]
    },
    {
     "data": {
      "text/html": [
       "<div>\n",
       "<style scoped>\n",
       "    .dataframe tbody tr th:only-of-type {\n",
       "        vertical-align: middle;\n",
       "    }\n",
       "\n",
       "    .dataframe tbody tr th {\n",
       "        vertical-align: top;\n",
       "    }\n",
       "\n",
       "    .dataframe thead th {\n",
       "        text-align: right;\n",
       "    }\n",
       "</style>\n",
       "<table border=\"1\" class=\"dataframe\">\n",
       "  <thead>\n",
       "    <tr style=\"text-align: right;\">\n",
       "      <th></th>\n",
       "      <th>Localidad</th>\n",
       "      <th>rooms</th>\n",
       "      <th>bedrooms</th>\n",
       "      <th>bathrooms</th>\n",
       "      <th>surface_total</th>\n",
       "      <th>surface_covered</th>\n",
       "      <th>price</th>\n",
       "      <th>Zona_Capital Federal</th>\n",
       "      <th>Zona_Otros</th>\n",
       "      <th>Tipo_Propiedada_Casa</th>\n",
       "      <th>Tipo_Propiedada_Departamento</th>\n",
       "      <th>Tipo_Propiedada_Otros</th>\n",
       "      <th>Tipo_Propiedada_PH</th>\n",
       "    </tr>\n",
       "  </thead>\n",
       "  <tbody>\n",
       "    <tr>\n",
       "      <th>0</th>\n",
       "      <td>2570.138868</td>\n",
       "      <td>3.0</td>\n",
       "      <td>2.0</td>\n",
       "      <td>2.0</td>\n",
       "      <td>89.0</td>\n",
       "      <td>79.0</td>\n",
       "      <td>219000.0</td>\n",
       "      <td>0</td>\n",
       "      <td>1</td>\n",
       "      <td>1</td>\n",
       "      <td>0</td>\n",
       "      <td>0</td>\n",
       "      <td>0</td>\n",
       "    </tr>\n",
       "    <tr>\n",
       "      <th>1</th>\n",
       "      <td>2000.281432</td>\n",
       "      <td>3.0</td>\n",
       "      <td>1.0</td>\n",
       "      <td>2.0</td>\n",
       "      <td>116.0</td>\n",
       "      <td>116.0</td>\n",
       "      <td>290000.0</td>\n",
       "      <td>1</td>\n",
       "      <td>0</td>\n",
       "      <td>1</td>\n",
       "      <td>0</td>\n",
       "      <td>0</td>\n",
       "      <td>0</td>\n",
       "    </tr>\n",
       "    <tr>\n",
       "      <th>2</th>\n",
       "      <td>1820.195926</td>\n",
       "      <td>3.0</td>\n",
       "      <td>2.0</td>\n",
       "      <td>1.0</td>\n",
       "      <td>171.0</td>\n",
       "      <td>120.0</td>\n",
       "      <td>179900.0</td>\n",
       "      <td>1</td>\n",
       "      <td>0</td>\n",
       "      <td>1</td>\n",
       "      <td>0</td>\n",
       "      <td>0</td>\n",
       "      <td>0</td>\n",
       "    </tr>\n",
       "    <tr>\n",
       "      <th>3</th>\n",
       "      <td>2414.533059</td>\n",
       "      <td>3.0</td>\n",
       "      <td>2.0</td>\n",
       "      <td>1.0</td>\n",
       "      <td>71.0</td>\n",
       "      <td>68.0</td>\n",
       "      <td>174000.0</td>\n",
       "      <td>1</td>\n",
       "      <td>0</td>\n",
       "      <td>1</td>\n",
       "      <td>0</td>\n",
       "      <td>0</td>\n",
       "      <td>0</td>\n",
       "    </tr>\n",
       "    <tr>\n",
       "      <th>4</th>\n",
       "      <td>1494.136411</td>\n",
       "      <td>3.0</td>\n",
       "      <td>2.0</td>\n",
       "      <td>2.0</td>\n",
       "      <td>82.0</td>\n",
       "      <td>80.0</td>\n",
       "      <td>95000.0</td>\n",
       "      <td>0</td>\n",
       "      <td>1</td>\n",
       "      <td>1</td>\n",
       "      <td>0</td>\n",
       "      <td>0</td>\n",
       "      <td>0</td>\n",
       "    </tr>\n",
       "  </tbody>\n",
       "</table>\n",
       "</div>"
      ],
      "text/plain": [
       "     Localidad  rooms  bedrooms  bathrooms  surface_total  surface_covered  \\\n",
       "0  2570.138868    3.0       2.0        2.0           89.0             79.0   \n",
       "1  2000.281432    3.0       1.0        2.0          116.0            116.0   \n",
       "2  1820.195926    3.0       2.0        1.0          171.0            120.0   \n",
       "3  2414.533059    3.0       2.0        1.0           71.0             68.0   \n",
       "4  1494.136411    3.0       2.0        2.0           82.0             80.0   \n",
       "\n",
       "      price  Zona_Capital Federal  Zona_Otros  Tipo_Propiedada_Casa  \\\n",
       "0  219000.0                     0           1                     1   \n",
       "1  290000.0                     1           0                     1   \n",
       "2  179900.0                     1           0                     1   \n",
       "3  174000.0                     1           0                     1   \n",
       "4   95000.0                     0           1                     1   \n",
       "\n",
       "   Tipo_Propiedada_Departamento  Tipo_Propiedada_Otros  Tipo_Propiedada_PH  \n",
       "0                             0                      0                   0  \n",
       "1                             0                      0                   0  \n",
       "2                             0                      0                   0  \n",
       "3                             0                      0                   0  \n",
       "4                             0                      0                   0  "
      ]
     },
     "execution_count": 176,
     "metadata": {},
     "output_type": "execute_result"
    }
   ],
   "source": [
    "columnas_descartar=[\"m2\"]\n",
    "dataset1=dataset1.drop(columns=columnas_descartar)\n",
    "print(dataset1.shape)\n",
    "dataset1.head()"
   ]
  },
  {
   "cell_type": "code",
   "execution_count": 177,
   "id": "d87e1415",
   "metadata": {},
   "outputs": [],
   "source": [
    "datasetSS=dataset1.copy()"
   ]
  },
  {
   "cell_type": "markdown",
   "id": "f25d5fc6",
   "metadata": {},
   "source": [
    "Dejo una copia si scalar."
   ]
  },
  {
   "cell_type": "markdown",
   "id": "b4b44fbb",
   "metadata": {},
   "source": [
    "## Escalado de datos."
   ]
  },
  {
   "cell_type": "markdown",
   "id": "69cd1456",
   "metadata": {},
   "source": [
    "**Escalamos todas las columnas salvo las columnas a las cuales se le hizo dummy y a  \"price\" que es nuestra variable target y queremos que mantenga su escala para mas adelante poder interpretar las metricas.**"
   ]
  },
  {
   "cell_type": "code",
   "execution_count": 178,
   "id": "98e9ddcb",
   "metadata": {},
   "outputs": [],
   "source": [
    "from sklearn.preprocessing import StandardScaler"
   ]
  },
  {
   "cell_type": "code",
   "execution_count": 179,
   "id": "c9491113",
   "metadata": {},
   "outputs": [
    {
     "data": {
      "text/plain": [
       "StandardScaler()"
      ]
     },
     "execution_count": 179,
     "metadata": {},
     "output_type": "execute_result"
    }
   ],
   "source": [
    "scaler = StandardScaler()\n",
    "scaler.fit(dataset1[[\"Localidad\",\"rooms\",\"bedrooms\",\"bathrooms\",\"surface_total\",\"surface_covered\"]])\n"
   ]
  },
  {
   "cell_type": "code",
   "execution_count": 180,
   "id": "813bafd9",
   "metadata": {},
   "outputs": [],
   "source": [
    "dataset1[[\"Localidad\",\"rooms\",\"bedrooms\",\"bathrooms\",\"surface_total\",\"surface_covered\"]]=scaler.transform(dataset1[[\"Localidad\",\"rooms\",\"bedrooms\",\"bathrooms\",\"surface_total\",\"surface_covered\"]])"
   ]
  },
  {
   "cell_type": "code",
   "execution_count": 181,
   "id": "b087cf5e",
   "metadata": {},
   "outputs": [
    {
     "name": "stdout",
     "output_type": "stream",
     "text": [
      "(93115, 13)\n"
     ]
    },
    {
     "data": {
      "text/html": [
       "<div>\n",
       "<style scoped>\n",
       "    .dataframe tbody tr th:only-of-type {\n",
       "        vertical-align: middle;\n",
       "    }\n",
       "\n",
       "    .dataframe tbody tr th {\n",
       "        vertical-align: top;\n",
       "    }\n",
       "\n",
       "    .dataframe thead th {\n",
       "        text-align: right;\n",
       "    }\n",
       "</style>\n",
       "<table border=\"1\" class=\"dataframe\">\n",
       "  <thead>\n",
       "    <tr style=\"text-align: right;\">\n",
       "      <th></th>\n",
       "      <th>Localidad</th>\n",
       "      <th>rooms</th>\n",
       "      <th>bedrooms</th>\n",
       "      <th>bathrooms</th>\n",
       "      <th>surface_total</th>\n",
       "      <th>surface_covered</th>\n",
       "      <th>price</th>\n",
       "      <th>Zona_Capital Federal</th>\n",
       "      <th>Zona_Otros</th>\n",
       "      <th>Tipo_Propiedada_Casa</th>\n",
       "      <th>Tipo_Propiedada_Departamento</th>\n",
       "      <th>Tipo_Propiedada_Otros</th>\n",
       "      <th>Tipo_Propiedada_PH</th>\n",
       "    </tr>\n",
       "  </thead>\n",
       "  <tbody>\n",
       "    <tr>\n",
       "      <th>0</th>\n",
       "      <td>0.196654</td>\n",
       "      <td>0.381261</td>\n",
       "      <td>0.384672</td>\n",
       "      <td>1.325915</td>\n",
       "      <td>0.612987</td>\n",
       "      <td>0.750924</td>\n",
       "      <td>219000.0</td>\n",
       "      <td>0</td>\n",
       "      <td>1</td>\n",
       "      <td>1</td>\n",
       "      <td>0</td>\n",
       "      <td>0</td>\n",
       "      <td>0</td>\n",
       "    </tr>\n",
       "    <tr>\n",
       "      <th>1</th>\n",
       "      <td>-0.802224</td>\n",
       "      <td>0.381261</td>\n",
       "      <td>-0.899108</td>\n",
       "      <td>1.325915</td>\n",
       "      <td>1.506171</td>\n",
       "      <td>2.310000</td>\n",
       "      <td>290000.0</td>\n",
       "      <td>1</td>\n",
       "      <td>0</td>\n",
       "      <td>1</td>\n",
       "      <td>0</td>\n",
       "      <td>0</td>\n",
       "      <td>0</td>\n",
       "    </tr>\n",
       "    <tr>\n",
       "      <th>2</th>\n",
       "      <td>-1.117888</td>\n",
       "      <td>0.381261</td>\n",
       "      <td>0.384672</td>\n",
       "      <td>-0.578358</td>\n",
       "      <td>3.325621</td>\n",
       "      <td>2.478548</td>\n",
       "      <td>179900.0</td>\n",
       "      <td>1</td>\n",
       "      <td>0</td>\n",
       "      <td>1</td>\n",
       "      <td>0</td>\n",
       "      <td>0</td>\n",
       "      <td>0</td>\n",
       "    </tr>\n",
       "    <tr>\n",
       "      <th>3</th>\n",
       "      <td>-0.076100</td>\n",
       "      <td>0.381261</td>\n",
       "      <td>0.384672</td>\n",
       "      <td>-0.578358</td>\n",
       "      <td>0.017530</td>\n",
       "      <td>0.287415</td>\n",
       "      <td>174000.0</td>\n",
       "      <td>1</td>\n",
       "      <td>0</td>\n",
       "      <td>1</td>\n",
       "      <td>0</td>\n",
       "      <td>0</td>\n",
       "      <td>0</td>\n",
       "    </tr>\n",
       "    <tr>\n",
       "      <th>4</th>\n",
       "      <td>-1.689423</td>\n",
       "      <td>0.381261</td>\n",
       "      <td>0.384672</td>\n",
       "      <td>1.325915</td>\n",
       "      <td>0.381420</td>\n",
       "      <td>0.793061</td>\n",
       "      <td>95000.0</td>\n",
       "      <td>0</td>\n",
       "      <td>1</td>\n",
       "      <td>1</td>\n",
       "      <td>0</td>\n",
       "      <td>0</td>\n",
       "      <td>0</td>\n",
       "    </tr>\n",
       "  </tbody>\n",
       "</table>\n",
       "</div>"
      ],
      "text/plain": [
       "   Localidad     rooms  bedrooms  bathrooms  surface_total  surface_covered  \\\n",
       "0   0.196654  0.381261  0.384672   1.325915       0.612987         0.750924   \n",
       "1  -0.802224  0.381261 -0.899108   1.325915       1.506171         2.310000   \n",
       "2  -1.117888  0.381261  0.384672  -0.578358       3.325621         2.478548   \n",
       "3  -0.076100  0.381261  0.384672  -0.578358       0.017530         0.287415   \n",
       "4  -1.689423  0.381261  0.384672   1.325915       0.381420         0.793061   \n",
       "\n",
       "      price  Zona_Capital Federal  Zona_Otros  Tipo_Propiedada_Casa  \\\n",
       "0  219000.0                     0           1                     1   \n",
       "1  290000.0                     1           0                     1   \n",
       "2  179900.0                     1           0                     1   \n",
       "3  174000.0                     1           0                     1   \n",
       "4   95000.0                     0           1                     1   \n",
       "\n",
       "   Tipo_Propiedada_Departamento  Tipo_Propiedada_Otros  Tipo_Propiedada_PH  \n",
       "0                             0                      0                   0  \n",
       "1                             0                      0                   0  \n",
       "2                             0                      0                   0  \n",
       "3                             0                      0                   0  \n",
       "4                             0                      0                   0  "
      ]
     },
     "execution_count": 181,
     "metadata": {},
     "output_type": "execute_result"
    }
   ],
   "source": [
    "print(dataset1.shape)\n",
    "dataset1.head()"
   ]
  },
  {
   "cell_type": "markdown",
   "id": "2860df3d",
   "metadata": {},
   "source": [
    "**Aqui finalizamos el preprocesamiento de los datos. Nos quedo un dataset de 93115 instancias y 13 columnas.**"
   ]
  },
  {
   "cell_type": "markdown",
   "id": "56ad5ab1",
   "metadata": {},
   "source": [
    "## Comparativa de los modelos del \"Proyecto 1\",Vecinos mas Cercanos  y Arbol de decision."
   ]
  },
  {
   "cell_type": "markdown",
   "id": "4d631017",
   "metadata": {},
   "source": [
    "importamos las librerias que vamos a utilizar."
   ]
  },
  {
   "cell_type": "code",
   "execution_count": 182,
   "id": "079bea63",
   "metadata": {},
   "outputs": [],
   "source": [
    "from sklearn.model_selection import train_test_split\n",
    "from sklearn.metrics import mean_squared_error\n",
    "from sklearn.metrics import r2_score\n",
    "from sklearn.neighbors  import KNeighborsRegressor\n",
    "from sklearn.tree  import DecisionTreeRegressor\n",
    "from sklearn.model_selection import cross_validate\n",
    "from sklearn.metrics import recall_score"
   ]
  },
  {
   "cell_type": "markdown",
   "id": "6c10b2ea",
   "metadata": {},
   "source": [
    "La variables a predecir es \"price\" y las variables predictores seran todas las demas del dataset, ya que son las que no eliminamos y las que trabajamos en detalle para optimizarlas."
   ]
  },
  {
   "cell_type": "code",
   "execution_count": 55,
   "id": "d4ec616f",
   "metadata": {},
   "outputs": [],
   "source": [
    "X=dataset1[[\"Localidad\",\"rooms\",\"bedrooms\",\"bathrooms\",\"surface_total\",\"surface_covered\",\"Zona_Capital Federal\",\"Zona_Otros\",\"Tipo_Propiedada_Casa\",\"Tipo_Propiedada_Departamento\",\"Tipo_Propiedada_Otros\",\"Tipo_Propiedada_PH\"]]\n",
    "y=dataset1[\"price\"]"
   ]
  },
  {
   "cell_type": "markdown",
   "id": "360c4b5e",
   "metadata": {},
   "source": [
    "Hacemos el train test split."
   ]
  },
  {
   "cell_type": "code",
   "execution_count": 56,
   "id": "8f886d5b",
   "metadata": {},
   "outputs": [],
   "source": [
    "X_train,X_test,y_train,y_test=train_test_split(X,y,test_size=0.2, random_state=42)"
   ]
  },
  {
   "cell_type": "markdown",
   "id": "ccbbc862",
   "metadata": {},
   "source": [
    "**Datos tomados del proyecto 1 Modelo KnnR.**"
   ]
  },
  {
   "cell_type": "markdown",
   "id": "c7e29f40",
   "metadata": {},
   "source": [
    "Como primer comparacion de los resultados de los modelos del primer proyecto, vuelvo a entrenar el modelo de vecinos mas cercanos con hiperparametros \"distance-, n_neighbors= 15\", ya que este fue el que mejor resultados me dio, con el dataset nuevo."
   ]
  },
  {
   "cell_type": "markdown",
   "id": "f22b77d0",
   "metadata": {},
   "source": [
    "RESULTADOS DEL \"PROYECTO 1\": Modelo KnnR -distance-, n_neighbors= 15.\n",
    " \n",
    "RMSE_Train: 57184.082198878\n",
    "\n",
    "RMSE_y_test: 126780.27055526315\n",
    "\n",
    "r2_score_Train: 0.9632225336739133\n",
    " \n",
    "r2_score_y_test: 0.8237484347725157\n",
    "\n",
    "Notamos que en el RMSE la diferencia entre el train y el test es extremadamente alta y tambien que los errores en general son muy altos, esto no dice que es un modelo con alta bias y alta varianza, en esto caso lo mejor en volver a trabajar el dataset y profundizar el preprocesamiento y agregar variables.\n",
    "Justamente esto es lo que hicimos, por lo que vamos a comparar estos resultado, volviendo a entrenar el mismos modelo con el data set nuevos."
   ]
  },
  {
   "cell_type": "code",
   "execution_count": 57,
   "id": "0ef53c37",
   "metadata": {},
   "outputs": [],
   "source": [
    "kkn_R=KNeighborsRegressor(n_neighbors=15, weights=\"distance\")\n",
    "kkn_R.fit(X_train,y_train)\n",
    "\n",
    "kknR_predicion_test=kkn_R.predict(X_test)\n",
    "kknR_predicion_train=kkn_R.predict(X_train)"
   ]
  },
  {
   "cell_type": "code",
   "execution_count": 58,
   "id": "81a469e2",
   "metadata": {},
   "outputs": [
    {
     "name": "stdout",
     "output_type": "stream",
     "text": [
      "Modelo KnnR -distance-, n_neighbors= 15\n",
      " \n",
      "RMSE_Train: 14122.876958263141\n",
      "RMSE_test: 28869.954527330443\n",
      " \n",
      "r2_score_Train: 0.9677363481102831\n",
      "r2_score_test: 0.866814551362714\n"
     ]
    }
   ],
   "source": [
    "print(\"Modelo KnnR -distance-, n_neighbors= 15\")\n",
    "print(\" \")\n",
    "print(\"RMSE_Train:\",mean_squared_error(y_train,kknR_predicion_train, squared=False))\n",
    "print(\"RMSE_test:\",mean_squared_error(y_test,kknR_predicion_test, squared=False))\n",
    "print(\" \")\n",
    "print(\"r2_score_Train:\",r2_score(y_train,kknR_predicion_train))\n",
    "print(\"r2_score_test:\",r2_score(y_test,kknR_predicion_test))"
   ]
  },
  {
   "cell_type": "markdown",
   "id": "72f68fe6",
   "metadata": {},
   "source": [
    "Hacemos validacion cruzada para evitar una evaluacion optimista.\n",
    "Los resultados varian poco con respecto a los resultados de entregados por el modelo si validacion cruzada."
   ]
  },
  {
   "cell_type": "code",
   "execution_count": 59,
   "id": "f0210ba5",
   "metadata": {},
   "outputs": [
    {
     "data": {
      "text/plain": [
       "['fit_time',\n",
       " 'score_time',\n",
       " 'test_neg_root_mean_squared_error',\n",
       " 'test_r2',\n",
       " 'train_neg_root_mean_squared_error',\n",
       " 'train_r2']"
      ]
     },
     "execution_count": 59,
     "metadata": {},
     "output_type": "execute_result"
    }
   ],
   "source": [
    "scoringKKN=[\"neg_root_mean_squared_error\",\"r2\"]\n",
    "scoresKKN=cross_validate(kkn_R,X,y, scoring=scoringKKN, cv=10,n_jobs=-1,return_train_score=True)\n",
    "sorted(scoresKKN.keys())"
   ]
  },
  {
   "cell_type": "code",
   "execution_count": 60,
   "id": "ffeaea64",
   "metadata": {},
   "outputs": [
    {
     "name": "stdout",
     "output_type": "stream",
     "text": [
      "train_neg_root_mean_squared_error: -14351.850291666507\n",
      "test_neg_root_mean_squared_error: -30278.411539144126\n",
      "-------------------------------------------------\n",
      "train_r2: 0.9667492335828183\n",
      "test_r2: 0.8474404372553341\n"
     ]
    }
   ],
   "source": [
    "print(\"train_neg_root_mean_squared_error:\",scoresKKN[\"train_neg_root_mean_squared_error\"].mean())\n",
    "print(\"test_neg_root_mean_squared_error:\",scoresKKN[\"test_neg_root_mean_squared_error\"].mean())\n",
    "print(\"-------------------------------------------------\")\n",
    "print(\"train_r2:\",scoresKKN[\"train_r2\"].mean())\n",
    "print(\"test_r2:\",scoresKKN[\"test_r2\"].mean())"
   ]
  },
  {
   "cell_type": "markdown",
   "id": "f1f2335a",
   "metadata": {},
   "source": [
    "Se puede observar que el RSME mejoro significativamente, tanto en train como en test se redujo aproximadamente 4 veces, indudablemente se debe a un mejor tratamiento de los datos y al agregar variables predictorias mas efectivas y eficientes como es el caso de \"localidad\".\n",
    "Lo que notamos es que hay muchisima variaza, que se debe a la diferencia entre test y train que es de un 110%, esto significa que el modelo esta sobreajustado  a los datos de entrenamiento, por lo que con datos nunca visto su rendimiento es bajo. Para equilibrar esto necesitamos usar otros modelos."
   ]
  },
  {
   "cell_type": "markdown",
   "id": "322f974b",
   "metadata": {},
   "source": [
    "**Datos tomados del proyecto 1 Modelo DecisionTreeRegressor.**"
   ]
  },
  {
   "cell_type": "markdown",
   "id": "6ff11bf3",
   "metadata": {},
   "source": [
    "Como segunda comparacion de los resultados de los modelos del primer proyecto, vuelvo a entrenar el modelo  DecisionTreeRegressor con hiperparametro  \"max_depth:16 \" con el dataset nuevo."
   ]
  },
  {
   "cell_type": "markdown",
   "id": "f1080c61",
   "metadata": {},
   "source": [
    "RESULTADOS DEL \"PROYECTO 1\": Modelo DecisionTreeRegressor, max_depth:16 \n",
    "\n",
    "RMSE_Train: 72579.20241683105\n",
    "\n",
    "RMSE_test: 140788.28484377195\n",
    "\n",
    "r2_score_Train: 0.9407544304262043\n",
    "  \n",
    "r2_score_test: 0.7826484856774989"
   ]
  },
  {
   "cell_type": "markdown",
   "id": "dd95d44b",
   "metadata": {},
   "source": [
    "Notamos, como en el modelo antes analizado, que en el RMSE la diferencia entre el train y el test es extremadamente alta y tambien que los errores en general son muy altos, esto no dice que es un modelo con alta bias y alta varianza, en esto caso lo mejor en volver a trabajar el dataset y profundizar el preprocesamiento y agregar variables. Justamente esto es lo que hicimos, por lo que vamos a comparar estos resultado, volviendo a entrenar el mismos modelo con el data set nuevos."
   ]
  },
  {
   "cell_type": "code",
   "execution_count": 61,
   "id": "b88029b9",
   "metadata": {},
   "outputs": [],
   "source": [
    "Dec_TreeR=DecisionTreeRegressor(max_depth=16, random_state=42)\n",
    "Dec_TreeR.fit(X_train,y_train)\n",
    "\n",
    "Dec_TreeR_predicion_test=Dec_TreeR.predict(X_test)\n",
    "Dec_TreeR_predicion_train=Dec_TreeR.predict(X_train)"
   ]
  },
  {
   "cell_type": "code",
   "execution_count": 62,
   "id": "b32c2771",
   "metadata": {
    "scrolled": true
   },
   "outputs": [
    {
     "name": "stdout",
     "output_type": "stream",
     "text": [
      "Modelo DecisionTreeRegressor, max_depth:16\n",
      "  \n",
      "RMSE_Train: 23598.167045284088\n",
      "RMSE_test: 34432.74204064026\n",
      "  \n",
      "r2_score_Train: 0.9099209672034804\n",
      "r2_score_test: 0.8105442475576624\n"
     ]
    }
   ],
   "source": [
    "print(\"Modelo DecisionTreeRegressor, max_depth:16\")\n",
    "print(\"  \")\n",
    "print(\"RMSE_Train:\",mean_squared_error(y_train,Dec_TreeR_predicion_train,squared=False))\n",
    "print(\"RMSE_test:\",mean_squared_error(y_test,Dec_TreeR_predicion_test,squared=False))\n",
    "print(\"  \")\n",
    "print(\"r2_score_Train:\",r2_score(y_train,Dec_TreeR_predicion_train))\n",
    "print(\"r2_score_test:\",r2_score(y_test,Dec_TreeR_predicion_test))\n"
   ]
  },
  {
   "cell_type": "markdown",
   "id": "19f614b3",
   "metadata": {},
   "source": [
    "Hacemos validacion cruzada para evitar una evaluacion optimista.\n",
    "Los resultados varian poco con respecto a los resultados de entregados por el modelo si validacion cruzada."
   ]
  },
  {
   "cell_type": "code",
   "execution_count": 63,
   "id": "55c0d1ec",
   "metadata": {},
   "outputs": [],
   "source": [
    "scoringDT=[\"neg_root_mean_squared_error\",\"r2\"]\n",
    "scoresDT=cross_validate(Dec_TreeR,X,y, scoring=scoringDT, cv=10,n_jobs=-1,return_train_score=True)"
   ]
  },
  {
   "cell_type": "code",
   "execution_count": 64,
   "id": "2930e1ce",
   "metadata": {},
   "outputs": [
    {
     "name": "stdout",
     "output_type": "stream",
     "text": [
      "train_neg_root_mean_squared_error: -23828.505124889278\n",
      "test_neg_root_mean_squared_error: -36729.404733772346\n",
      "-------------------------------------------------\n",
      "train_r2: 0.9083605736560638\n",
      "test_r2: 0.7720000503063777\n"
     ]
    }
   ],
   "source": [
    "print(\"train_neg_root_mean_squared_error:\",scoresDT[\"train_neg_root_mean_squared_error\"].mean())\n",
    "print(\"test_neg_root_mean_squared_error:\",scoresDT[\"test_neg_root_mean_squared_error\"].mean())\n",
    "print(\"-------------------------------------------------\")\n",
    "print(\"train_r2:\",scoresDT[\"train_r2\"].mean())\n",
    "print(\"test_r2:\",scoresDT[\"test_r2\"].mean())"
   ]
  },
  {
   "cell_type": "markdown",
   "id": "0943beac",
   "metadata": {},
   "source": [
    "Se puede observar que el RSME mejoro significativamente, train vs train se redujo aproximadamente 3 veces y test vs test se redujo aproximadamente 4 veces, indudablemente se debe a un mejor tratamiento de los datos y al agregar variables predictorias mas efectivas y eficientes como es el caso de \"localidad\" como se ve en el grafico mas abajo de Feature importance.\n",
    "Lo que notamos es que hay muchisima variaza, que se debe a la diferencia entre test y train que es de un 54%, esto significa que el modelo esta sobreajustado a los datos de entrenamiento, por lo que con datos nunca visto su rendimiento es bajo. Para equilibrar esto necesitamos usar otros modelos."
   ]
  },
  {
   "cell_type": "code",
   "execution_count": 65,
   "id": "fb7b5848",
   "metadata": {},
   "outputs": [],
   "source": [
    "Importancia=pd.DataFrame({\"col_name\":Dec_TreeR.feature_importances_},index=X.columns).sort_values(by=\"col_name\",ascending=False)"
   ]
  },
  {
   "cell_type": "code",
   "execution_count": 66,
   "id": "1bd97926",
   "metadata": {},
   "outputs": [
    {
     "data": {
      "text/plain": [
       "<AxesSubplot:>"
      ]
     },
     "execution_count": 66,
     "metadata": {},
     "output_type": "execute_result"
    },
    {
     "data": {
      "image/png": "[encoded data removed]",
      "text/plain": [
       "<Figure size 432x288 with 1 Axes>"
      ]
     },
     "metadata": {},
     "output_type": "display_data"
    }
   ],
   "source": [
    "Importancia.plot(kind=\"bar\",color=\"r\")"
   ]
  },
  {
   "cell_type": "markdown",
   "id": "152252a6",
   "metadata": {},
   "source": [
    "Aqui graficando el Feature importance podemos ver cual es la variable que mas considero el modelo. Lo que mas llama la atencion pero a la vez nos resulta logico y esperable es que la variable Localidad, la cual no se considero en el Proyecto 1,es la segunda en importancia para predecir.\n",
    "La mejora en los rendimientos se debe a lo mencionado anteriormente y a lo mencionado en los analisis comparativos tambien realizado anteriormente, que concluye en lo que esperabamos, es decir al realizar un mayor preprocesamiento de los datos, como imputaciones, eliminacion de outliers mas precisa, y agregar variables."
   ]
  },
  {
   "cell_type": "markdown",
   "id": "1a9d2812",
   "metadata": {},
   "source": [
    "## MODELOS AVANZADOS."
   ]
  },
  {
   "cell_type": "code",
   "execution_count": 67,
   "id": "5a3062cd",
   "metadata": {},
   "outputs": [],
   "source": [
    "from sklearn.model_selection import GridSearchCV\n",
    "from sklearn.model_selection import RandomizedSearchCV"
   ]
  },
  {
   "cell_type": "markdown",
   "id": "745a7363",
   "metadata": {},
   "source": [
    "**Primer modelo Avanzado Seleccionado-RandomForestRegressor.**"
   ]
  },
  {
   "cell_type": "markdown",
   "id": "f915c9b8",
   "metadata": {},
   "source": [
    "RandomForestRegressor es un modelo de ensamble Bagging que se basa en el hecho de que promediando un conjunto de modelos (aqui son arboles), se consigue reducir la varianza. cada uno de los arboles se entrena con unos datos ligeramente distintos."
   ]
  },
  {
   "cell_type": "code",
   "execution_count": 68,
   "id": "f9721ae1",
   "metadata": {},
   "outputs": [],
   "source": [
    "from sklearn.ensemble import RandomForestRegressor"
   ]
  },
  {
   "cell_type": "markdown",
   "id": "fc442c75",
   "metadata": {},
   "source": [
    "Lo entrenamos con los parametros de default."
   ]
  },
  {
   "cell_type": "code",
   "execution_count": 69,
   "id": "a163dd12",
   "metadata": {},
   "outputs": [],
   "source": [
    "Model_RF=RandomForestRegressor()\n",
    "Model_RF.fit(X_train,y_train)\n",
    "\n",
    "Model_RFpredicion_test=Model_RF.predict(X_test)\n",
    "Model_RFpredicion_train=Model_RF.predict(X_train)"
   ]
  },
  {
   "cell_type": "code",
   "execution_count": 70,
   "id": "ca2d1adc",
   "metadata": {},
   "outputs": [
    {
     "name": "stdout",
     "output_type": "stream",
     "text": [
      "Modelo RandomForestRegressor- Sin Optimizacino de Hiperparametros-\n",
      " \n",
      "RMSE_Train: 16510.115031487832\n",
      "RMSE_test: 28927.054194521974\n",
      " \n",
      "r2_score_Train: 0.9559072312595438\n",
      "r2_score_test: 0.8662871958170622\n"
     ]
    }
   ],
   "source": [
    "print(\"Modelo RandomForestRegressor- Sin Optimizacino de Hiperparametros-\")\n",
    "print(\" \")\n",
    "print(\"RMSE_Train:\",mean_squared_error(y_train,Model_RFpredicion_train, squared=False))\n",
    "print(\"RMSE_test:\",mean_squared_error(y_test,Model_RFpredicion_test, squared=False))\n",
    "print(\" \")\n",
    "print(\"r2_score_Train:\",r2_score(y_train,Model_RFpredicion_train))\n",
    "print(\"r2_score_test:\",r2_score(y_test,Model_RFpredicion_test))"
   ]
  },
  {
   "cell_type": "markdown",
   "id": "52ca6ff8",
   "metadata": {},
   "source": [
    "Observamos que tiene un 75% diferencia entre ek train y el test por lo que tiene alta varianza, sobre ajustado a los datos de entrenamiento. Una de las maneras para reducirla es ajustar los hiperparametros."
   ]
  },
  {
   "cell_type": "markdown",
   "id": "0220157d",
   "metadata": {},
   "source": [
    "**Optimizacio de hiperparametros del modelos RandomForestRegressor.**"
   ]
  },
  {
   "cell_type": "markdown",
   "id": "fe413e89",
   "metadata": {},
   "source": [
    "En este modelo determinamos que para la optimizacino de los hiperparametros vamos a usar GridSearchCV.\n",
    "Definimos la grilla con lo hiperparametros que queremos optimizar.\n",
    "El parametro mas importante para redicir la varianza es el max depth por lo que probamos con baja profundidad. Con respecto a los otros hiperparametros nos quedamos cerca de los de defualt."
   ]
  },
  {
   "cell_type": "code",
   "execution_count": 71,
   "id": "94ee7a8e",
   "metadata": {},
   "outputs": [],
   "source": [
    "parametersRF={\"n_estimators\":[100,120,130,140],\n",
    "              \"max_depth\":[10,11,12],\n",
    "              \"max_features\":[8,10,12],\n",
    "              \"min_samples_split\":[2,3],\n",
    "              \"min_samples_leaf\":[1,2]}\n",
    "\n",
    "#PARAMETROS DEFUALT_ \n",
    "#.n_estimators:100\n",
    "#.max_depth: None\n",
    "#.max_features: auto\n",
    "#.min_samples_split:2\n",
    "#.min_samples_leaf:1"
   ]
  },
  {
   "cell_type": "code",
   "execution_count": 72,
   "id": "d63877bc",
   "metadata": {},
   "outputs": [],
   "source": [
    "ModelRF_OptHip=RandomForestRegressor()"
   ]
  },
  {
   "cell_type": "markdown",
   "id": "9c37590c",
   "metadata": {},
   "source": [
    "Le pasamos la grilla y ponemos que haga Cross validate de 5 veces."
   ]
  },
  {
   "cell_type": "code",
   "execution_count": 73,
   "id": "afeae400",
   "metadata": {},
   "outputs": [],
   "source": [
    "RF_GridSearchCV=GridSearchCV(ModelRF_OptHip,parametersRF,scoring=\"neg_root_mean_squared_error\",n_jobs=-1,cv=5)"
   ]
  },
  {
   "cell_type": "markdown",
   "id": "d1c9761a",
   "metadata": {},
   "source": [
    "Luego de entrenar ponemos los mejores estimadores en una variable llamada \"best_modelRF\" para luego evaluarla con Cross validate."
   ]
  },
  {
   "cell_type": "code",
   "execution_count": 74,
   "id": "ff14fc4c",
   "metadata": {},
   "outputs": [],
   "source": [
    "FitRF_GridSearchCV=RF_GridSearchCV.fit(X_train,y_train)\n",
    "best_modelRF=RF_GridSearchCV.best_estimator_"
   ]
  },
  {
   "cell_type": "markdown",
   "id": "796673fd",
   "metadata": {},
   "source": [
    "Aqui vemos cuales son los parametros que optimizan el modelo."
   ]
  },
  {
   "cell_type": "code",
   "execution_count": 75,
   "id": "4ad21fcd",
   "metadata": {},
   "outputs": [
    {
     "data": {
      "text/plain": [
       "{'max_depth': 12,\n",
       " 'max_features': 10,\n",
       " 'min_samples_leaf': 1,\n",
       " 'min_samples_split': 2,\n",
       " 'n_estimators': 140}"
      ]
     },
     "execution_count": 75,
     "metadata": {},
     "output_type": "execute_result"
    }
   ],
   "source": [
    "FitRF_GridSearchCV.best_params_"
   ]
  },
  {
   "cell_type": "markdown",
   "id": "af96e0a0",
   "metadata": {},
   "source": [
    "Validamos con cross validate con 10 particiones (mas que por default) y ponemos que que el scoring sean R2 y RMSE, como no hay RMSE utilizamos la Negativa de RMSE, que es lo mismo pero solo en negativo, por lo que nos sirve totalmente para evaluarlo."
   ]
  },
  {
   "cell_type": "code",
   "execution_count": 76,
   "id": "0a7129ca",
   "metadata": {
    "scrolled": true
   },
   "outputs": [
    {
     "data": {
      "text/plain": [
       "['estimator',\n",
       " 'fit_time',\n",
       " 'score_time',\n",
       " 'test_neg_root_mean_squared_error',\n",
       " 'test_r2',\n",
       " 'train_neg_root_mean_squared_error',\n",
       " 'train_r2']"
      ]
     },
     "execution_count": 76,
     "metadata": {},
     "output_type": "execute_result"
    }
   ],
   "source": [
    "scoring=[\"neg_root_mean_squared_error\",\"r2\"]\n",
    "scoresRF=cross_validate(best_modelRF,X,y, scoring=scoring, cv=10,n_jobs=-1,return_train_score=True,return_estimator=True)\n",
    "sorted(scoresRF.keys())"
   ]
  },
  {
   "cell_type": "code",
   "execution_count": 77,
   "id": "cf03cf06",
   "metadata": {},
   "outputs": [
    {
     "name": "stdout",
     "output_type": "stream",
     "text": [
      "train_neg_root_mean_squared_error: -29725.41889072786\n",
      "test_neg_root_mean_squared_error: -33949.034448191305\n",
      "-------------------------------------------------\n",
      "train_r2: 0.8574022435994297\n",
      "test_r2: 0.8105272856492176\n"
     ]
    }
   ],
   "source": [
    "print(\"train_neg_root_mean_squared_error:\",scoresRF[\"train_neg_root_mean_squared_error\"].mean())\n",
    "print(\"test_neg_root_mean_squared_error:\",scoresRF[\"test_neg_root_mean_squared_error\"].mean())\n",
    "print(\"-------------------------------------------------\")\n",
    "print(\"train_r2:\",scoresRF[\"train_r2\"].mean())\n",
    "print(\"test_r2:\",scoresRF[\"test_r2\"].mean())"
   ]
  },
  {
   "cell_type": "markdown",
   "id": "90df03af",
   "metadata": {},
   "source": [
    "Aca se puede ver que luego de optimizar los hiperparametro y evaluar con un cross validate train aumento muchisimo por lo que el error es un 80% mayor y test aumento un 17% pero por otro lado la varianza se disminuyo de un 75% a un 14%. A pesar de que el los errores son mas grandes existe un mejor equilibrio entre el sesgo y la varianza. Se trata de buscar el equilibrio entre sesgo y varianza y para este modelo se da en estos niveles de error, por lo que suponemos que es ruido irreducible ( teniendo en cuenta el dataset que trabajamos)."
   ]
  },
  {
   "cell_type": "markdown",
   "id": "94dc2b44",
   "metadata": {},
   "source": [
    "Entrenamos y evaluamos nuevamente el modelo con los hiperparametros optimizados donde vemos cambios menores, por lo que se hizo esto es para poder ver los features importance."
   ]
  },
  {
   "cell_type": "code",
   "execution_count": 78,
   "id": "ad00efcf",
   "metadata": {},
   "outputs": [],
   "source": [
    "Model_final_RF=best_modelRF"
   ]
  },
  {
   "cell_type": "code",
   "execution_count": 79,
   "id": "8410c606",
   "metadata": {},
   "outputs": [],
   "source": [
    "Model_final_RF.fit(X_train,y_train)\n",
    "Model_final_RF_predicion_test=Model_final_RF.predict(X_test)\n",
    "Model_final_RF_predicion_train=Model_final_RF.predict(X_train)"
   ]
  },
  {
   "cell_type": "code",
   "execution_count": 80,
   "id": "161f4203",
   "metadata": {},
   "outputs": [
    {
     "name": "stdout",
     "output_type": "stream",
     "text": [
      "Modelo RandomForestRegressor- Con Optimizacion de Hiperparametros-\n",
      " \n",
      "RMSE_Train: 29555.252754404595\n",
      "RMSE_test: 32999.22691669581\n",
      " \n",
      "r2_score_Train: 0.8587018330617823\n",
      "r2_score_test: 0.8259908403762497\n"
     ]
    }
   ],
   "source": [
    "print(\"Modelo RandomForestRegressor- Con Optimizacion de Hiperparametros-\")\n",
    "print(\" \")\n",
    "print(\"RMSE_Train:\",mean_squared_error(y_train,Model_final_RF_predicion_train, squared=False))\n",
    "print(\"RMSE_test:\",mean_squared_error(y_test,Model_final_RF_predicion_test, squared=False))\n",
    "print(\" \")\n",
    "print(\"r2_score_Train:\",r2_score(y_train,Model_final_RF_predicion_train))\n",
    "print(\"r2_score_test:\",r2_score(y_test,Model_final_RF_predicion_test))"
   ]
  },
  {
   "cell_type": "code",
   "execution_count": 81,
   "id": "87139be3",
   "metadata": {},
   "outputs": [
    {
     "data": {
      "text/plain": [
       "array([3.05661073e-01, 7.81218169e-03, 7.56875022e-03, 4.85651591e-02,\n",
       "       1.75845995e-01, 4.29420922e-01, 3.74889826e-03, 3.68299852e-03,\n",
       "       1.62657134e-03, 1.07584991e-02, 4.26289909e-04, 4.88266125e-03])"
      ]
     },
     "execution_count": 81,
     "metadata": {},
     "output_type": "execute_result"
    }
   ],
   "source": [
    "Model_final_RF.feature_importances_"
   ]
  },
  {
   "cell_type": "code",
   "execution_count": 82,
   "id": "64825b4f",
   "metadata": {},
   "outputs": [],
   "source": [
    "Importancia=pd.DataFrame({\"col_name\":Model_final_RF.feature_importances_},index=X.columns).sort_values(by=\"col_name\",ascending=False)"
   ]
  },
  {
   "cell_type": "code",
   "execution_count": 83,
   "id": "f6fe69e8",
   "metadata": {},
   "outputs": [
    {
     "data": {
      "text/plain": [
       "<AxesSubplot:>"
      ]
     },
     "execution_count": 83,
     "metadata": {},
     "output_type": "execute_result"
    },
    {
     "data": {
      "image/png": "[encoded data removed]",
      "text/plain": [
       "<Figure size 432x288 with 1 Axes>"
      ]
     },
     "metadata": {},
     "output_type": "display_data"
    }
   ],
   "source": [
    "Importancia.plot(kind=\"bar\",color=\"y\")"
   ]
  },
  {
   "cell_type": "markdown",
   "id": "f373c6f5",
   "metadata": {},
   "source": [
    "Notamos que las cuatros variables predictoras que tienen mayor importancia son \"Surface covered\"/\"Localidad\"/\"Surface Total\" y \" Bathrooms\" que suman aproximadamente el 95% era logico de esperar que \"Surface covered\"y\"Localidad\" tenga mucha importancia y que los tipos de propiedad tanto no ya que les hicimos dummy pero igual me sorprende su nivel tan bajo de importancia."
   ]
  },
  {
   "cell_type": "markdown",
   "id": "1e19cef3",
   "metadata": {},
   "source": [
    "**Segundo modelo Avanzado Seleccionado-AdaBoostRegressor**"
   ]
  },
  {
   "cell_type": "code",
   "execution_count": 84,
   "id": "b6f86d00",
   "metadata": {},
   "outputs": [],
   "source": [
    "from sklearn.ensemble import AdaBoostRegressor"
   ]
  },
  {
   "cell_type": "markdown",
   "id": "72df2a98",
   "metadata": {},
   "source": [
    "AdaBoostRegressor es un modelo de ensamble Boosting que utiliza weak learners, donde los errores en cada intento aumentan su peso para que se resuelvan, en otras palabra van aprendiendo unos de otros (los arboles).Dando una solucion que teoricamente deberia ser mejor que la de cada arbol por separado. "
   ]
  },
  {
   "cell_type": "code",
   "execution_count": 85,
   "id": "e92a36f6",
   "metadata": {},
   "outputs": [],
   "source": [
    "Model_ada=AdaBoostRegressor()\n",
    "Model_ada.fit(X_train,y_train)\n",
    "\n",
    "Model_adapredicion_test=Model_ada.predict(X_test)\n",
    "Model_adapredicion_train=Model_ada.predict(X_train)"
   ]
  },
  {
   "cell_type": "code",
   "execution_count": 86,
   "id": "083941bc",
   "metadata": {},
   "outputs": [
    {
     "name": "stdout",
     "output_type": "stream",
     "text": [
      "Modelo AdaBoostRegressor- Sin Optimizacino de Hiperparametros-\n",
      " \n",
      "RMSE_Train: 52008.471620223965\n",
      "RMSE_test: 52593.516917857065\n",
      " \n",
      "r2_score_Train: 0.5624624255973836\n",
      "r2_score_test: 0.5579931455491877\n"
     ]
    }
   ],
   "source": [
    "print(\"Modelo AdaBoostRegressor- Sin Optimizacino de Hiperparametros-\")\n",
    "print(\" \")\n",
    "print(\"RMSE_Train:\",mean_squared_error(y_train,Model_adapredicion_train, squared=False))\n",
    "print(\"RMSE_test:\",mean_squared_error(y_test,Model_adapredicion_test, squared=False))\n",
    "print(\" \")\n",
    "print(\"r2_score_Train:\",r2_score(y_train,Model_adapredicion_train))\n",
    "print(\"r2_score_test:\",r2_score(y_test,Model_adapredicion_test))"
   ]
  },
  {
   "cell_type": "markdown",
   "id": "258be381",
   "metadata": {},
   "source": [
    "Los primero que se nota es que casi no hay varianza es aproximadamente un 1% eso es un buen y perfecto equilibrio, pero no vale de nada si es que el modelo no es capaz de reflejar la relacion real que existe entre los predictores y el target, el modelo no esta aprendiendo bien, tiene mucho sesgo.\n",
    "Vamos a optimizar."
   ]
  },
  {
   "cell_type": "markdown",
   "id": "61926010",
   "metadata": {},
   "source": [
    "Optimizacio de hiperparametros del modelos RandomForestRegressor."
   ]
  },
  {
   "cell_type": "markdown",
   "id": "af484c7f",
   "metadata": {},
   "source": [
    "Lo promedo que hacemos es determinar una profundidad optima de arbol ya que por defaul es 3. Trataremos de identificar un max_depth que complejize el modelo pero en un punto que no lo overfitee o subreajuste."
   ]
  },
  {
   "cell_type": "code",
   "execution_count": 87,
   "id": "89e580b5",
   "metadata": {},
   "outputs": [],
   "source": [
    "lista_train= []\n",
    "lista_test= []\n",
    "max_depths=[3,4,6,8,10,12,14,15,16,17,18,19,20,21,22,23,24] \n",
    "\n",
    "for max_depth in max_depths:\n",
    "    \n",
    "    ada=AdaBoostRegressor(DecisionTreeRegressor(max_depth=max_depth,random_state=42))\n",
    "    ada.fit(X_train,y_train)\n",
    "            \n",
    "    ytrain_predic=ada.predict(X_train)\n",
    "    \n",
    "    Train=mean_squared_error(y_train,ytrain_predic,squared=False)   \n",
    "    lista_train.append(Train)\n",
    "    \n",
    "    Test_predic=ada.predict(X_test)         \n",
    "    \n",
    "    Test=mean_squared_error(y_test,Test_predic,squared=False)\n",
    "    lista_test.append(Test)       "
   ]
  },
  {
   "cell_type": "code",
   "execution_count": 88,
   "id": "29a48078",
   "metadata": {},
   "outputs": [
    {
     "data": {
      "image/png": "[encoded data removed]",
      "text/plain": [
       "<Figure size 432x288 with 1 Axes>"
      ]
     },
     "metadata": {},
     "output_type": "display_data"
    }
   ],
   "source": [
    "plt.plot(max_depths,lista_train,\"o-\", label=\"train\")\n",
    "plt.plot(max_depths,lista_test,\"o-\", label=\"test\")\n",
    "plt.title(\"Modelo AdaBoostRegressor Train vs.Test por Profundidad\")\n",
    "plt.xlabel(\"AdaBoost -depth tree\")\n",
    "plt.ylabel(\"RMSE\")\n",
    "plt.grid()\n",
    "plt.legend()\n",
    "plt.show()"
   ]
  },
  {
   "cell_type": "markdown",
   "id": "679d00a5",
   "metadata": {},
   "source": [
    "Tomamos un max_depth de 12 ya que en el grafico se puede ver que en train se puede seguir reduciendo el error pero en test la reduccion es pequeña como para seguir subreajustando y generando mucha varianza."
   ]
  },
  {
   "cell_type": "markdown",
   "id": "4b8704c1",
   "metadata": {},
   "source": [
    "En este modelo determinamos que para la optimizacino de los hiperparametros vamos a usar RandomizedSearchCV.Definimos el numero de iteraciones en 60 ya que es el 50% del total de convinaciones posible con respecto a la grilla definida.Los valores de los hiperparametros de la grilla los definimos en valores cercanos a los de defualt."
   ]
  },
  {
   "cell_type": "code",
   "execution_count": 89,
   "id": "c6982dd7",
   "metadata": {},
   "outputs": [],
   "source": [
    "Model_ada_R=AdaBoostRegressor(DecisionTreeRegressor(max_depth=12, random_state=42))"
   ]
  },
  {
   "cell_type": "code",
   "execution_count": 90,
   "id": "44222ac4",
   "metadata": {},
   "outputs": [],
   "source": [
    "param_ada_R={\"n_estimators\":[50,70,80,100,120],\n",
    "             \"learning_rate\":[0.1,0.15,0.2,0.3,0.4,0.45,0.5,1],\n",
    "             \"loss\":[\"linear\",\"square\",\"exponential\"]}\n",
    "\n",
    "##PARAMETROS DEFUALT_ \n",
    "#.n_estimators:50\n",
    "#.learning_rate:1\n",
    "#.loss: linear\n"
   ]
  },
  {
   "cell_type": "code",
   "execution_count": 91,
   "id": "57097616",
   "metadata": {},
   "outputs": [],
   "source": [
    "Ada_RandomizedSearchCV=RandomizedSearchCV(Model_ada_R,param_ada_R,scoring=\"neg_root_mean_squared_error\",n_jobs=-1,n_iter=60,cv= 5)"
   ]
  },
  {
   "cell_type": "markdown",
   "id": "7c6f8944",
   "metadata": {},
   "source": [
    "Luego de entrenar ponemos los mejores estimadores en una variable llamada \"best_modelADA\" para luego evaluarla con Cross validate."
   ]
  },
  {
   "cell_type": "code",
   "execution_count": 92,
   "id": "c8209a72",
   "metadata": {},
   "outputs": [],
   "source": [
    "FitRF_Model_ada_R=Ada_RandomizedSearchCV.fit(X_train,y_train)\n",
    "best_modelADA=FitRF_Model_ada_R.best_estimator_"
   ]
  },
  {
   "cell_type": "markdown",
   "id": "670b5086",
   "metadata": {},
   "source": [
    "Aqui vemos cuales son los parametros que optimizan el modelo."
   ]
  },
  {
   "cell_type": "code",
   "execution_count": 93,
   "id": "adb634b3",
   "metadata": {},
   "outputs": [
    {
     "data": {
      "text/plain": [
       "{'n_estimators': 80, 'loss': 'exponential', 'learning_rate': 0.1}"
      ]
     },
     "execution_count": 93,
     "metadata": {},
     "output_type": "execute_result"
    }
   ],
   "source": [
    "FitRF_Model_ada_R.best_params_"
   ]
  },
  {
   "cell_type": "markdown",
   "id": "88382fe0",
   "metadata": {},
   "source": [
    "Validamos con cross validate con 10 particiones (mas que por default) y ponemos que que el scoring sean R2 y RMSE, como no hay RMSE utilizamos la Negativa de RMSE, que es lo mismo pero solo en negativo, por lo que nos sirve totalmente para evaluarlo."
   ]
  },
  {
   "cell_type": "code",
   "execution_count": 94,
   "id": "b7570d22",
   "metadata": {},
   "outputs": [
    {
     "data": {
      "text/plain": [
       "['estimator',\n",
       " 'fit_time',\n",
       " 'score_time',\n",
       " 'test_neg_root_mean_squared_error',\n",
       " 'test_r2',\n",
       " 'train_neg_root_mean_squared_error',\n",
       " 'train_r2']"
      ]
     },
     "execution_count": 94,
     "metadata": {},
     "output_type": "execute_result"
    }
   ],
   "source": [
    "scoringADA=[\"neg_root_mean_squared_error\",\"r2\"]\n",
    "scoresADA=cross_validate(best_modelADA,X,y, scoring=scoringADA, cv=10,n_jobs=-1,return_train_score=True,return_estimator=True)\n",
    "sorted(scoresADA.keys())"
   ]
  },
  {
   "cell_type": "code",
   "execution_count": 95,
   "id": "3c6a2961",
   "metadata": {},
   "outputs": [
    {
     "name": "stdout",
     "output_type": "stream",
     "text": [
      "train_neg_root_mean_squared_error: -29164.28363506696\n",
      "test_neg_root_mean_squared_error: -34199.61327172112\n",
      "-------------------------------------------------\n",
      "train_r2: 0.8627363157548216\n",
      "test_r2: 0.8075238832616114\n"
     ]
    }
   ],
   "source": [
    "print(\"train_neg_root_mean_squared_error:\",scoresADA[\"train_neg_root_mean_squared_error\"].mean())\n",
    "print(\"test_neg_root_mean_squared_error:\",scoresADA[\"test_neg_root_mean_squared_error\"].mean())\n",
    "print(\"-------------------------------------------------\")\n",
    "print(\"train_r2:\",scoresADA[\"train_r2\"].mean())\n",
    "print(\"test_r2:\",scoresADA[\"test_r2\"].mean())"
   ]
  },
  {
   "cell_type": "markdown",
   "id": "3e744b9a",
   "metadata": {},
   "source": [
    "Se logro reducir significativamente los errores tanto en test como en train.\n",
    "Y se redujo significativamente el sesgo a costa de una mayor varianza que es del 17%."
   ]
  },
  {
   "cell_type": "markdown",
   "id": "789141d8",
   "metadata": {},
   "source": [
    "Entrenamos y evaluamos nuevamente el modelo con los hiperparametros optimizados donde vemos cambios menores, por lo que se hizo esto es para poder ver los features importance."
   ]
  },
  {
   "cell_type": "code",
   "execution_count": 96,
   "id": "ca745f25",
   "metadata": {},
   "outputs": [],
   "source": [
    "Model_final_ADA=best_modelADA"
   ]
  },
  {
   "cell_type": "code",
   "execution_count": 97,
   "id": "1d4c7553",
   "metadata": {},
   "outputs": [],
   "source": [
    "Model_final_ADA.fit(X_train,y_train)\n",
    "Model_final_ADA_predicion_test=Model_final_ADA.predict(X_test)\n",
    "Model_final_ADA_predicion_train=Model_final_ADA.predict(X_train)"
   ]
  },
  {
   "cell_type": "code",
   "execution_count": 98,
   "id": "e778f0d6",
   "metadata": {
    "scrolled": true
   },
   "outputs": [
    {
     "name": "stdout",
     "output_type": "stream",
     "text": [
      "Modelo RandomForestRegressor- Con Optimizacion de Hiperparametros-\n",
      " \n",
      "RMSE_Train: 28903.791435113228\n",
      "RMSE_test: 32911.96689223123\n",
      " \n",
      "r2_score_Train: 0.8648622132719235\n",
      "r2_score_test: 0.8269098902644269\n"
     ]
    }
   ],
   "source": [
    "print(\"Modelo RandomForestRegressor- Con Optimizacion de Hiperparametros-\")\n",
    "print(\" \")\n",
    "print(\"RMSE_Train:\",mean_squared_error(y_train,Model_final_ADA_predicion_train, squared=False))\n",
    "print(\"RMSE_test:\",mean_squared_error(y_test,Model_final_ADA_predicion_test, squared=False))\n",
    "print(\" \")\n",
    "print(\"r2_score_Train:\",r2_score(y_train,Model_final_ADA_predicion_train))\n",
    "print(\"r2_score_test:\",r2_score(y_test,Model_final_ADA_predicion_test))"
   ]
  },
  {
   "cell_type": "code",
   "execution_count": 99,
   "id": "93b6c704",
   "metadata": {},
   "outputs": [],
   "source": [
    "Importancia=pd.DataFrame({\"col_name\":Model_final_ADA.feature_importances_},index=X.columns).sort_values(by=\"col_name\",ascending=False)"
   ]
  },
  {
   "cell_type": "code",
   "execution_count": 100,
   "id": "92fcaab1",
   "metadata": {
    "scrolled": true
   },
   "outputs": [
    {
     "data": {
      "text/plain": [
       "<AxesSubplot:>"
      ]
     },
     "execution_count": 100,
     "metadata": {},
     "output_type": "execute_result"
    },
    {
     "data": {
      "image/png": "[encoded data removed]",
      "text/plain": [
       "<Figure size 432x288 with 1 Axes>"
      ]
     },
     "metadata": {},
     "output_type": "display_data"
    }
   ],
   "source": [
    "Importancia.plot(kind=\"bar\")"
   ]
  },
  {
   "cell_type": "markdown",
   "id": "2c1d4bfc",
   "metadata": {},
   "source": [
    "Notamos que las cuatros variables predictoras que tienen mayor importancia son \"Surface covered\"/\"Localidad\"/\"Surface Total\" y \" Bathrooms\" que suman aproximadamente el 93% era logico de esperar que \"Surface covered\"y\"Localidad\" tenga mucha importancia."
   ]
  },
  {
   "cell_type": "markdown",
   "id": "2330c1cb",
   "metadata": {},
   "source": [
    "**Analisis comparativo de los modelos avanzados.**\n",
    "\n",
    "Primero notamos que las cuatros variables predictoras que tienen mayor importancia son las mismas en ambos modelos y en orden, estas son \"Surface covered\"/\"Localidad\"/\"Surface Total\" y \" Bathrooms\". Creo que esto se debe a que los dos modelos seleccionado son de ensamble que a pesar se sus diferencias de funcionamiento se basan en Arboles de Decision.\n",
    "\n",
    "Segundo como mencione anteriormente lo que se trata de hacer es encontrar un equilibrio entre sesgo y varianza ya que no existe modelo perfecto.\n",
    "\n",
    "Tercero notamos que los modelos hacen lo que corresponde el Forest Random lo que hace es bajar la varianza y vemos que lo hace ya que en el modelo entrenado con parametros por default esta era muy alta.\n",
    "El modelo adaboost baja el sesgo lo cual vimos que lo redujo significativamente con respecto al modelo entrenado con parametros por default ya que con los valores de el RMSE tan altos se notaba que no aprendia correctamente.\n",
    "\n",
    "Por ultimo en comparativa, el modelo que elegimos es el RandomForest ya que su RSME en test es menor, por muy poca diferencia 0.73%.  "
   ]
  },
  {
   "cell_type": "markdown",
   "id": "81ef085a",
   "metadata": {},
   "source": [
    "**Analisis de comparacion de los modelos avanzados y el de la seccion A.**\n",
    "En relacion a el modelo de arboles de decision tomado del primer proyecto y vuelto a entrenar con el nuevo dataset se vio que tenia alto sesgo y alta varianza por lo que se utilizaron los modelos avanzados para reducirlos, el Adaboost disminuye sesgo y el RandomForest disminuye varianza, pero esta relacino siempre juega un papel en donde si disminuimos varianza sube el sesgo y alreves. \n",
    "\n",
    "Lo que se nota es que al utilizar modelos mas flexibles ( mas complejos) se puede equilibrar mas la relacion que mencionabamos entre sesgo y varianza a su vez por lo resultados obtenidos no son grandes las diferencias de los errores pero si notamos que los modelos avanzado aprenden mas y mejor ya que captan mejor la relacion entre los predictores y la variables respuesta como tambien no varian demasiado los resultado en el dataset test."
   ]
  },
  {
   "cell_type": "markdown",
   "id": "2307acf8",
   "metadata": {},
   "source": [
    "## Eleccion de arboles al azar."
   ]
  },
  {
   "cell_type": "markdown",
   "id": "6f5c2836",
   "metadata": {},
   "source": [
    "Sobre el modelo RandomForestRegressor el cual nos dio el mejor desempeño."
   ]
  },
  {
   "cell_type": "markdown",
   "id": "dda9355c",
   "metadata": {},
   "source": [
    "Elegimos los arboles numero 10,50,100 y 119 los parametros mas relevantes son justamente los que obtivimos en el GridSearch. Los parametros son todos iguales salvo el random_state.\n",
    "Se observa que en cada arbol los resultados del error tanto en train como en test varian, esta variacion en pequeña pero denota el funcionamiento del modelo RandomForest que realiza el promedio de todos sus arboles dando un mejor resultado en su conjunto que por arbol individual."
   ]
  },
  {
   "cell_type": "code",
   "execution_count": 101,
   "id": "8b9fca4f",
   "metadata": {},
   "outputs": [
    {
     "data": {
      "text/plain": [
       "{'ccp_alpha': 0.0,\n",
       " 'criterion': 'mse',\n",
       " 'max_depth': 12,\n",
       " 'max_features': 10,\n",
       " 'max_leaf_nodes': None,\n",
       " 'min_impurity_decrease': 0.0,\n",
       " 'min_impurity_split': None,\n",
       " 'min_samples_leaf': 1,\n",
       " 'min_samples_split': 2,\n",
       " 'min_weight_fraction_leaf': 0.0,\n",
       " 'random_state': 699573872,\n",
       " 'splitter': 'best'}"
      ]
     },
     "execution_count": 101,
     "metadata": {},
     "output_type": "execute_result"
    }
   ],
   "source": [
    "RF_tree10=Model_final_RF.estimators_[10]\n",
    "RF_tree10.get_params()"
   ]
  },
  {
   "cell_type": "code",
   "execution_count": 102,
   "id": "8a71cacc",
   "metadata": {},
   "outputs": [
    {
     "name": "stdout",
     "output_type": "stream",
     "text": [
      "Arbol 10: Modelo RandomForestRegressor-Con Optimizacion de Hiperparametros-\n",
      " \n",
      "RMSE_Train: 33358.20168189291\n",
      "RMSE_test: 37095.71699742587\n",
      " \n",
      "r2_score_Train: 0.8200000301254972\n",
      "r2_score_test: 0.7801066388555677\n"
     ]
    }
   ],
   "source": [
    "RF_tree_predicion_test=RF_tree10.predict(X_test)\n",
    "RF_tree_RF_predicion_train=RF_tree10.predict(X_train)\n",
    "print(\"Arbol 10: Modelo RandomForestRegressor-Con Optimizacion de Hiperparametros-\")\n",
    "print(\" \")\n",
    "print(\"RMSE_Train:\",mean_squared_error(y_train,RF_tree_RF_predicion_train, squared=False))\n",
    "print(\"RMSE_test:\",mean_squared_error(y_test,RF_tree_predicion_test, squared=False))\n",
    "print(\" \")\n",
    "print(\"r2_score_Train:\",r2_score(y_train,RF_tree_RF_predicion_train))\n",
    "print(\"r2_score_test:\",r2_score(y_test,RF_tree_predicion_test))"
   ]
  },
  {
   "cell_type": "code",
   "execution_count": 103,
   "id": "bf1337b2",
   "metadata": {},
   "outputs": [
    {
     "data": {
      "text/plain": [
       "{'ccp_alpha': 0.0,\n",
       " 'criterion': 'mse',\n",
       " 'max_depth': 12,\n",
       " 'max_features': 10,\n",
       " 'max_leaf_nodes': None,\n",
       " 'min_impurity_decrease': 0.0,\n",
       " 'min_impurity_split': None,\n",
       " 'min_samples_leaf': 1,\n",
       " 'min_samples_split': 2,\n",
       " 'min_weight_fraction_leaf': 0.0,\n",
       " 'random_state': 1358171955,\n",
       " 'splitter': 'best'}"
      ]
     },
     "execution_count": 103,
     "metadata": {},
     "output_type": "execute_result"
    }
   ],
   "source": [
    "RF_tree50=Model_final_RF.estimators_[50]\n",
    "RF_tree50.get_params()"
   ]
  },
  {
   "cell_type": "code",
   "execution_count": 104,
   "id": "92662c63",
   "metadata": {},
   "outputs": [
    {
     "name": "stdout",
     "output_type": "stream",
     "text": [
      "Arbol 50: Modelo RandomForestRegressor-Con Optimizacion de Hiperparametros-\n",
      " \n",
      "RMSE_Train: 33488.780928363056\n",
      "RMSE_test: 37495.77596416828\n",
      " \n",
      "r2_score_Train: 0.8185880677023448\n",
      "r2_score_test: 0.775338181676914\n"
     ]
    }
   ],
   "source": [
    "RF_tree_predicion_test=RF_tree50.predict(X_test)\n",
    "RF_tree_RF_predicion_train=RF_tree50.predict(X_train)\n",
    "print(\"Arbol 50: Modelo RandomForestRegressor-Con Optimizacion de Hiperparametros-\")\n",
    "print(\" \")\n",
    "print(\"RMSE_Train:\",mean_squared_error(y_train,RF_tree_RF_predicion_train, squared=False))\n",
    "print(\"RMSE_test:\",mean_squared_error(y_test,RF_tree_predicion_test, squared=False))\n",
    "print(\" \")\n",
    "print(\"r2_score_Train:\",r2_score(y_train,RF_tree_RF_predicion_train))\n",
    "print(\"r2_score_test:\",r2_score(y_test,RF_tree_predicion_test))"
   ]
  },
  {
   "cell_type": "code",
   "execution_count": 105,
   "id": "492f8efe",
   "metadata": {
    "scrolled": true
   },
   "outputs": [
    {
     "data": {
      "text/plain": [
       "{'ccp_alpha': 0.0,\n",
       " 'criterion': 'mse',\n",
       " 'max_depth': 12,\n",
       " 'max_features': 10,\n",
       " 'max_leaf_nodes': None,\n",
       " 'min_impurity_decrease': 0.0,\n",
       " 'min_impurity_split': None,\n",
       " 'min_samples_leaf': 1,\n",
       " 'min_samples_split': 2,\n",
       " 'min_weight_fraction_leaf': 0.0,\n",
       " 'random_state': 1346536383,\n",
       " 'splitter': 'best'}"
      ]
     },
     "execution_count": 105,
     "metadata": {},
     "output_type": "execute_result"
    }
   ],
   "source": [
    "RF_tree100=Model_final_RF.estimators_[100]\n",
    "RF_tree100.get_params()"
   ]
  },
  {
   "cell_type": "code",
   "execution_count": 106,
   "id": "e4d4db8a",
   "metadata": {},
   "outputs": [
    {
     "name": "stdout",
     "output_type": "stream",
     "text": [
      "Arbol 100: Modelo RandomForestRegressor-Con Optimizacion de Hiperparametros-\n",
      " \n",
      "RMSE_Train: 33905.832410610245\n",
      "RMSE_test: 37022.013335275886\n",
      " \n",
      "r2_score_Train: 0.8140415171183233\n",
      "r2_score_test: 0.7809795614954813\n"
     ]
    }
   ],
   "source": [
    "RF_tree_predicion_test=RF_tree100.predict(X_test)\n",
    "RF_tree_RF_predicion_train=RF_tree100.predict(X_train)\n",
    "print(\"Arbol 100: Modelo RandomForestRegressor-Con Optimizacion de Hiperparametros-\")\n",
    "print(\" \")\n",
    "print(\"RMSE_Train:\",mean_squared_error(y_train,RF_tree_RF_predicion_train, squared=False))\n",
    "print(\"RMSE_test:\",mean_squared_error(y_test,RF_tree_predicion_test, squared=False))\n",
    "print(\" \")\n",
    "print(\"r2_score_Train:\",r2_score(y_train,RF_tree_RF_predicion_train))\n",
    "print(\"r2_score_test:\",r2_score(y_test,RF_tree_predicion_test))"
   ]
  },
  {
   "cell_type": "code",
   "execution_count": 107,
   "id": "528ddfb4",
   "metadata": {
    "scrolled": true
   },
   "outputs": [
    {
     "data": {
      "text/plain": [
       "{'ccp_alpha': 0.0,\n",
       " 'criterion': 'mse',\n",
       " 'max_depth': 12,\n",
       " 'max_features': 10,\n",
       " 'max_leaf_nodes': None,\n",
       " 'min_impurity_decrease': 0.0,\n",
       " 'min_impurity_split': None,\n",
       " 'min_samples_leaf': 1,\n",
       " 'min_samples_split': 2,\n",
       " 'min_weight_fraction_leaf': 0.0,\n",
       " 'random_state': 1699562683,\n",
       " 'splitter': 'best'}"
      ]
     },
     "execution_count": 107,
     "metadata": {},
     "output_type": "execute_result"
    }
   ],
   "source": [
    "RF_tree119=Model_final_RF.estimators_[119]\n",
    "RF_tree119.get_params()"
   ]
  },
  {
   "cell_type": "code",
   "execution_count": 108,
   "id": "88062b19",
   "metadata": {},
   "outputs": [
    {
     "name": "stdout",
     "output_type": "stream",
     "text": [
      "Arbol 100: Modelo RandomForestRegressor-Con Optimizacion de Hiperparametros-\n",
      " \n",
      "RMSE_Train: 33589.2856012005\n",
      "RMSE_test: 36947.989192868605\n",
      " \n",
      "r2_score_Train: 0.817497546879979\n",
      "r2_score_test: 0.7818545323695418\n"
     ]
    }
   ],
   "source": [
    "RF_tree_predicion_test=RF_tree119.predict(X_test)\n",
    "RF_tree_RF_predicion_train=RF_tree119.predict(X_train)\n",
    "print(\"Arbol 100: Modelo RandomForestRegressor-Con Optimizacion de Hiperparametros-\")\n",
    "print(\" \")\n",
    "print(\"RMSE_Train:\",mean_squared_error(y_train,RF_tree_RF_predicion_train, squared=False))\n",
    "print(\"RMSE_test:\",mean_squared_error(y_test,RF_tree_predicion_test, squared=False))\n",
    "print(\" \")\n",
    "print(\"r2_score_Train:\",r2_score(y_train,RF_tree_RF_predicion_train))\n",
    "print(\"r2_score_test:\",r2_score(y_test,RF_tree_predicion_test))"
   ]
  },
  {
   "cell_type": "markdown",
   "id": "6e8ecd5a",
   "metadata": {},
   "source": [
    "## Grafico y analisis de la dispersion de los errores."
   ]
  },
  {
   "cell_type": "markdown",
   "id": "04643635",
   "metadata": {},
   "source": [
    "Modelos DecisionTreeRegressor - RandomForestRegressor - AdaBoostRegressor.(los graficos estan es este orden)."
   ]
  },
  {
   "cell_type": "markdown",
   "id": "1f207269",
   "metadata": {},
   "source": [
    "Podemos observar en el histograma de DecisionTreeRegressor que la mayor concentracion se da en torno a 0 (cero) lo que nos indica que la mayot cantidad de predicciones no poseen error y esto va disminuyendo hacia los extremos donde encontramos mayores errores.\n",
    "Vemos que la mayor diferencia entre train y test se da en torno a 0 (cero) lo que es normal ya que ne test el modelo predice sobre datos nunca vistos.\n",
    "En el scatterplot donde relacionamos las predicciones y los datos reales de la variable target vemos una mayor concentracion en los precios menores y como se van dispersando en los altos, pero en general siempre hay puntos muy dispersos entorno a la curva. \n",
    "Tanto en el - RandomForestRegressor - como en el - AdaBoostRegressor - en los histogramas vemos que la deferencia en el train y test disminuye en torno al 0 (cero), dando un mejor equilibrio.\n",
    "En los scatterplots notamos que la concentracion en torno a la curva se prolonga alrededor y proxima desde precios bajos hasta altos de mejor manera que en el -DecisionTreeRegressor- aunque siguen existiendo diferencia, esto denota que los modelos mas flexibles logran entender mejor la relacion de las variables predictoras y la target por lo que son capaces de predecir mejor-"
   ]
  },
  {
   "cell_type": "code",
   "execution_count": 109,
   "id": "38ba0817",
   "metadata": {
    "scrolled": true
   },
   "outputs": [
    {
     "name": "stderr",
     "output_type": "stream",
     "text": [
      "C:\\Users\\Usuario\\miniconda3\\envs\\datascience\\lib\\site-packages\\seaborn\\distributions.py:2557: FutureWarning: `distplot` is a deprecated function and will be removed in a future version. Please adapt your code to use either `displot` (a figure-level function with similar flexibility) or `histplot` (an axes-level function for histograms).\n",
      "  warnings.warn(msg, FutureWarning)\n",
      "C:\\Users\\Usuario\\miniconda3\\envs\\datascience\\lib\\site-packages\\seaborn\\distributions.py:2557: FutureWarning: `distplot` is a deprecated function and will be removed in a future version. Please adapt your code to use either `displot` (a figure-level function with similar flexibility) or `histplot` (an axes-level function for histograms).\n",
      "  warnings.warn(msg, FutureWarning)\n",
      "C:\\Users\\Usuario\\miniconda3\\envs\\datascience\\lib\\site-packages\\seaborn\\distributions.py:2557: FutureWarning: `distplot` is a deprecated function and will be removed in a future version. Please adapt your code to use either `displot` (a figure-level function with similar flexibility) or `histplot` (an axes-level function for histograms).\n",
      "  warnings.warn(msg, FutureWarning)\n",
      "C:\\Users\\Usuario\\miniconda3\\envs\\datascience\\lib\\site-packages\\seaborn\\distributions.py:2557: FutureWarning: `distplot` is a deprecated function and will be removed in a future version. Please adapt your code to use either `displot` (a figure-level function with similar flexibility) or `histplot` (an axes-level function for histograms).\n",
      "  warnings.warn(msg, FutureWarning)\n",
      "C:\\Users\\Usuario\\miniconda3\\envs\\datascience\\lib\\site-packages\\seaborn\\distributions.py:2557: FutureWarning: `distplot` is a deprecated function and will be removed in a future version. Please adapt your code to use either `displot` (a figure-level function with similar flexibility) or `histplot` (an axes-level function for histograms).\n",
      "  warnings.warn(msg, FutureWarning)\n",
      "C:\\Users\\Usuario\\miniconda3\\envs\\datascience\\lib\\site-packages\\seaborn\\distributions.py:2557: FutureWarning: `distplot` is a deprecated function and will be removed in a future version. Please adapt your code to use either `displot` (a figure-level function with similar flexibility) or `histplot` (an axes-level function for histograms).\n",
      "  warnings.warn(msg, FutureWarning)\n"
     ]
    },
    {
     "data": {
      "image/png": "[encoded data removed]",
      "text/plain": [
       "<Figure size 720x1800 with 6 Axes>"
      ]
     },
     "metadata": {},
     "output_type": "display_data"
    }
   ],
   "source": [
    "sns.set()\n",
    "plt.figure(figsize=(10,25))\n",
    "plt.suptitle(\"                                                  Distribucion del error y Scatterplot de la variable target \",fontsize=15)\n",
    "plt.xlabel(\"y_test\")\n",
    "plt.subplot(3,2,1)\n",
    "sns.distplot(y_train - Dec_TreeR_predicion_train,bins=20,kde=True, label= \"train\")\n",
    "sns.distplot(y_test - Dec_TreeR_predicion_test,bins=20,kde=True,color=\"orange\", label= \"test\")\n",
    "plt.xlabel(\"errores\")\n",
    "plt.legend()\n",
    "plt.title(\" DecisionTreeRegressor\")\n",
    "ax=plt.subplot(3,2,2)\n",
    "ax.scatter(y_test,Dec_TreeR_predicion_test,color=\"r\",s=2)\n",
    "lims= [np.min([ax.get_xlim(),ax.get_ylim()]),np.max([ax.get_xlim(),ax.get_ylim()]),]\n",
    "ax.plot(lims,lims,\"k-1\",alpha=0.75, zorder=0)\n",
    "plt.ylabel(\"y test predicion\")\n",
    "\n",
    "plt.xlabel(\"y_test\")\n",
    "plt.subplot(3,2,3)\n",
    "sns.distplot(y_train - Model_final_RF_predicion_train,bins=20,kde=True, label= \"train\")\n",
    "sns.distplot(y_test - Model_final_RF_predicion_test,bins=20,kde=True,color=\"orange\", label= \"test\")\n",
    "plt.xlabel(\"errores\")\n",
    "plt.legend()\n",
    "plt.title(\"RandomForestRegressor\")\n",
    "ax=plt.subplot(3,2,4)\n",
    "ax.scatter(y_test,Model_final_RF_predicion_test,color=\"y\",s=2)\n",
    "lims= [np.min([ax.get_xlim(),ax.get_ylim()]),np.max([ax.get_xlim(),ax.get_ylim()]),]\n",
    "ax.plot(lims,lims,\"k-1\",alpha=0.75, zorder=0)\n",
    "plt.ylabel(\"y test predicion\")\n",
    "\n",
    "plt.xlabel(\"y_test\")\n",
    "plt.subplot(3,2,5)\n",
    "sns.distplot(y_train - Model_final_ADA_predicion_train,bins=20,kde=True, label= \"train\")\n",
    "sns.distplot(y_test - Model_final_ADA_predicion_test,bins=20,kde=True,color=\"orange\", label= \"test\")\n",
    "plt.xlabel(\"errores\")\n",
    "plt.legend()\n",
    "plt.title(\"AdaBoostRegressor\")\n",
    "ax=plt.subplot(3,2,6)\n",
    "ax.scatter(y_test,Model_final_ADA_predicion_test,color=\"b\",s=2)\n",
    "lims= [np.min([ax.get_xlim(),ax.get_ylim()]),np.max([ax.get_xlim(),ax.get_ylim()]),]\n",
    "ax.plot(lims,lims,\"k-1\",alpha=0.75, zorder=0)\n",
    "plt.ylabel(\"y test predicion\")\n",
    "\n",
    "plt.tight_layout()\n",
    "plt.show()"
   ]
  },
  {
   "cell_type": "markdown",
   "id": "bd8d7cd4",
   "metadata": {},
   "source": [
    "## Conclusion"
   ]
  },
  {
   "cell_type": "markdown",
   "id": "657f045c",
   "metadata": {},
   "source": [
    "La conclusion a la que llego, no es mas que parte de los analisis que fui haciendo en cada seccion del proyecto.\n",
    "Todos los modelos de machine learning sufre de problemas de equilibrio entre bias y varianza y que el mejor modelo es aquel que consigue este equilibrio ya que no existe un modelo perfecto. Este equilibrio optimo tiene que ser evaluado segun el modelo a utilizar y el dataset con el que contamos en donde veo el mayor desafio ya que tenemos que preprocesarlo de manera consiente y detallada, pero cabe destacar que este dataset tiene que ser de una minima calidad y con una cantidad de datos e instancias que considerable como para poder entrenar bien a los modelos y sacarles el mejor provecho.\n",
    "Entre los dos modelos avanzados que entrene y evalue el -RandomForestRegressor-\n",
    "fue el mejor, ya que el error (RMSE) fue el inferior a nivel test y la varianza tambien era mejor. Los resultados entre ambos no tuvieron grandes diferencias, un 0.73% menor el RMSE  y un 3% menos de varianza en el RandomForest con respecto al AdaBoost.\n",
    "El dataset se comporto, en cierta manera, como esperaba ya que despues del preprocesamiento y haber agregado la variable Localidad, la cual siempre crei que era la mas importante, se redujo significativamente el error (RMSE), pero crei que este error (RMSE el utilizado para evaluar) iba a llegar a estar en valores mucho menores ya que 30mil dolares es mucho para una implementacion real; por lo que sigo pensando que habria que trabajar con un dataset mas grande y de mayor calidad, como tambien trabajar de mejor manera la variable tipo de propiedad."
   ]
  },
  {
   "cell_type": "markdown",
   "id": "0553791a",
   "metadata": {},
   "source": [
    "## Adicional."
   ]
  },
  {
   "cell_type": "markdown",
   "id": "4c4d3e40",
   "metadata": {},
   "source": [
    "Como seccion adicional, se realizara un clusterizacion en relacion a las variables \"Bedrooms\" y \"price\" del dataset, el modelo que utilizaremos sera el K-Means.\n",
    "\n",
    "Por que elegimos estas variables: se quiere tener segmentada las distinta propiedades con distintas cantidades de habitaciones en relacion al precio, ya que ante las consultas por viviendas, donde el prospecto busca deteminada cantidad de habitaciones con un determinado presupuesto.\n",
    "Se podria pensar que a mayor cantidad de habitaciones mayor sera el precio,esto el logico si no consideramos la ubicacion, pero dado que existe y es muy importante esto hara, por ejemplo que el una vivienda con 3 cuartos tenga distintos precios en distintas localidades.\n",
    "\n",
    "Esta clusterizacion nos dara cierta cantidad de Clusters ,que se basaran en un rango de precios donde en cada precio habra propiedades con variada cantidad de habitaciones."
   ]
  },
  {
   "cell_type": "markdown",
   "id": "2f64e9ec",
   "metadata": {},
   "source": [
    "Vamos a utilizar el dataset sin escalar para entender mejor el grafico, ademas al relacionar solo dos variables de las cuales precio nunca fue escalada, el hecho de que Bedrooms no lo este no impactara, ya que sabemos que este modelo es sensible al escalado."
   ]
  },
  {
   "cell_type": "code",
   "execution_count": 184,
   "id": "44f77b4e",
   "metadata": {},
   "outputs": [],
   "source": [
    "from sklearn.cluster import KMeans\n",
    "import sklearn.metrics as metrics"
   ]
  },
  {
   "cell_type": "markdown",
   "id": "eb899ac4",
   "metadata": {},
   "source": [
    "El metodo K-Means necesita que le pasemos cuantos clusters queremos y dado que no sabemos cual es la cantidad optima, utilizaremos el metodo elbow para determinarlo."
   ]
  },
  {
   "cell_type": "code",
   "execution_count": 185,
   "id": "d237c464",
   "metadata": {},
   "outputs": [],
   "source": [
    "K=range(1,13)\n",
    "wss=[]\n",
    "for k in K:\n",
    "    Kmean=KMeans(n_clusters=k, random_state=0)\n",
    "    Kmean.fit(datasetSS[[\"price\",\"bedrooms\"]])\n",
    "    wss_iter=Kmean.inertia_\n",
    "    wss.append(wss_iter)"
   ]
  },
  {
   "cell_type": "markdown",
   "id": "ae9773db",
   "metadata": {},
   "source": [
    "Vemos que el codo se forma en 3, esta sera nuestra cantidad de clusters."
   ]
  },
  {
   "cell_type": "code",
   "execution_count": 186,
   "id": "71069909",
   "metadata": {},
   "outputs": [
    {
     "data": {
      "image/png": "[encoded data removed]",
      "text/plain": [
       "<Figure size 432x288 with 1 Axes>"
      ]
     },
     "metadata": {},
     "output_type": "display_data"
    }
   ],
   "source": [
    "plt.plot(K, wss,\"o-\", label=\"train\")\n",
    "plt.title(\"Metodo Elbow\")\n",
    "plt.xlabel(\"K- cantidad de Clustes\")\n",
    "plt.ylabel(\"wws score\")\n",
    "plt.grid()\n",
    "plt.legend()\n",
    "plt.show()"
   ]
  },
  {
   "cell_type": "markdown",
   "id": "907f6022",
   "metadata": {},
   "source": [
    "Igualmente para corroborar esta cantidad de clusters a pasarle al modelo K-Means vamos a corroborar la misma utilizando el metodo Silhouette."
   ]
  },
  {
   "cell_type": "markdown",
   "id": "ca6170b0",
   "metadata": {},
   "source": [
    "Observamos que el valor mayor sigue correspondiendo a la custerizacion de cantidad 3."
   ]
  },
  {
   "cell_type": "code",
   "execution_count": 187,
   "id": "e44d3546",
   "metadata": {},
   "outputs": [
    {
     "name": "stdout",
     "output_type": "stream",
     "text": [
      "Silhouette score para3clusters es0.5596844954488684\n",
      "Silhouette score para4clusters es0.5571023414571816\n",
      "Silhouette score para5clusters es0.543997648689447\n",
      "Silhouette score para6clusters es0.5439841981831519\n",
      "Silhouette score para7clusters es0.5314392005461014\n",
      "Silhouette score para8clusters es0.5261418378332324\n"
     ]
    }
   ],
   "source": [
    "K=range(3,9)\n",
    "for i in K:\n",
    "    lables=KMeans(n_clusters=i, random_state=0).fit(datasetSS[[\"price\",\"bedrooms\"]]).labels_\n",
    "    print(\"Silhouette score para\" +str(i)+ \"clusters es\" +str(metrics.silhouette_score((datasetSS[[\"price\",\"bedrooms\"]]),lables,metric=\"euclidean\",random_state=0)))"
   ]
  },
  {
   "cell_type": "markdown",
   "id": "d38a35eb",
   "metadata": {},
   "source": [
    "Creamos el modelo y lo entrenamos."
   ]
  },
  {
   "cell_type": "code",
   "execution_count": 188,
   "id": "555dfcb7",
   "metadata": {},
   "outputs": [],
   "source": [
    "Model_Kmean=KMeans(n_clusters=3, random_state=0)"
   ]
  },
  {
   "cell_type": "code",
   "execution_count": 190,
   "id": "b2e27d9f",
   "metadata": {},
   "outputs": [
    {
     "data": {
      "text/plain": [
       "KMeans(n_clusters=3, random_state=0)"
      ]
     },
     "execution_count": 190,
     "metadata": {},
     "output_type": "execute_result"
    }
   ],
   "source": [
    "Model_Kmean.fit(datasetSS[[\"price\",\"bedrooms\"]])"
   ]
  },
  {
   "cell_type": "markdown",
   "id": "f7734c36",
   "metadata": {},
   "source": [
    "Observamos lo centroides."
   ]
  },
  {
   "cell_type": "code",
   "execution_count": 191,
   "id": "f908e06f",
   "metadata": {},
   "outputs": [
    {
     "data": {
      "text/plain": [
       "array([[1.85386131e+05, 1.86078472e+00],\n",
       "       [1.01451182e+05, 1.34697342e+00],\n",
       "       [3.02043587e+05, 2.33010502e+00]])"
      ]
     },
     "execution_count": 191,
     "metadata": {},
     "output_type": "execute_result"
    }
   ],
   "source": [
    "Model_Kmean.cluster_centers_"
   ]
  },
  {
   "cell_type": "markdown",
   "id": "92f4696b",
   "metadata": {},
   "source": [
    "Asignamos las etiquetas a una variable."
   ]
  },
  {
   "cell_type": "code",
   "execution_count": 197,
   "id": "fef50424",
   "metadata": {},
   "outputs": [],
   "source": [
    "etiqutas=Model_Kmean.labels_"
   ]
  },
  {
   "cell_type": "code",
   "execution_count": 198,
   "id": "21740b6b",
   "metadata": {},
   "outputs": [],
   "source": [
    "datasetSS[\"cluster\"]=etiqutas"
   ]
  },
  {
   "cell_type": "markdown",
   "id": "fadcecf5",
   "metadata": {},
   "source": [
    "Y generando una nueva columna integramos las etiquetas al dataset."
   ]
  },
  {
   "cell_type": "code",
   "execution_count": 199,
   "id": "fdc31693",
   "metadata": {
    "scrolled": true
   },
   "outputs": [
    {
     "data": {
      "text/html": [
       "<div>\n",
       "<style scoped>\n",
       "    .dataframe tbody tr th:only-of-type {\n",
       "        vertical-align: middle;\n",
       "    }\n",
       "\n",
       "    .dataframe tbody tr th {\n",
       "        vertical-align: top;\n",
       "    }\n",
       "\n",
       "    .dataframe thead th {\n",
       "        text-align: right;\n",
       "    }\n",
       "</style>\n",
       "<table border=\"1\" class=\"dataframe\">\n",
       "  <thead>\n",
       "    <tr style=\"text-align: right;\">\n",
       "      <th></th>\n",
       "      <th>Localidad</th>\n",
       "      <th>rooms</th>\n",
       "      <th>bedrooms</th>\n",
       "      <th>bathrooms</th>\n",
       "      <th>surface_total</th>\n",
       "      <th>surface_covered</th>\n",
       "      <th>price</th>\n",
       "      <th>Zona_Capital Federal</th>\n",
       "      <th>Zona_Otros</th>\n",
       "      <th>Tipo_Propiedada_Casa</th>\n",
       "      <th>Tipo_Propiedada_Departamento</th>\n",
       "      <th>Tipo_Propiedada_Otros</th>\n",
       "      <th>Tipo_Propiedada_PH</th>\n",
       "      <th>cluster</th>\n",
       "    </tr>\n",
       "  </thead>\n",
       "  <tbody>\n",
       "    <tr>\n",
       "      <th>0</th>\n",
       "      <td>2570.138868</td>\n",
       "      <td>3.0</td>\n",
       "      <td>2.0</td>\n",
       "      <td>2.0</td>\n",
       "      <td>89.0</td>\n",
       "      <td>79.0</td>\n",
       "      <td>219000.0</td>\n",
       "      <td>0</td>\n",
       "      <td>1</td>\n",
       "      <td>1</td>\n",
       "      <td>0</td>\n",
       "      <td>0</td>\n",
       "      <td>0</td>\n",
       "      <td>0</td>\n",
       "    </tr>\n",
       "    <tr>\n",
       "      <th>1</th>\n",
       "      <td>2000.281432</td>\n",
       "      <td>3.0</td>\n",
       "      <td>1.0</td>\n",
       "      <td>2.0</td>\n",
       "      <td>116.0</td>\n",
       "      <td>116.0</td>\n",
       "      <td>290000.0</td>\n",
       "      <td>1</td>\n",
       "      <td>0</td>\n",
       "      <td>1</td>\n",
       "      <td>0</td>\n",
       "      <td>0</td>\n",
       "      <td>0</td>\n",
       "      <td>2</td>\n",
       "    </tr>\n",
       "  </tbody>\n",
       "</table>\n",
       "</div>"
      ],
      "text/plain": [
       "     Localidad  rooms  bedrooms  bathrooms  surface_total  surface_covered  \\\n",
       "0  2570.138868    3.0       2.0        2.0           89.0             79.0   \n",
       "1  2000.281432    3.0       1.0        2.0          116.0            116.0   \n",
       "\n",
       "      price  Zona_Capital Federal  Zona_Otros  Tipo_Propiedada_Casa  \\\n",
       "0  219000.0                     0           1                     1   \n",
       "1  290000.0                     1           0                     1   \n",
       "\n",
       "   Tipo_Propiedada_Departamento  Tipo_Propiedada_Otros  Tipo_Propiedada_PH  \\\n",
       "0                             0                      0                   0   \n",
       "1                             0                      0                   0   \n",
       "\n",
       "   cluster  \n",
       "0        0  \n",
       "1        2  "
      ]
     },
     "execution_count": 199,
     "metadata": {},
     "output_type": "execute_result"
    }
   ],
   "source": [
    "datasetSS.head(2)"
   ]
  },
  {
   "cell_type": "markdown",
   "id": "ffe75c67",
   "metadata": {},
   "source": [
    "Aqui vemos la cantidad de propiedades del dataset que corresponden a cada cluster."
   ]
  },
  {
   "cell_type": "code",
   "execution_count": 200,
   "id": "a1260322",
   "metadata": {},
   "outputs": [
    {
     "data": {
      "text/plain": [
       "1    43593\n",
       "0    33621\n",
       "2    15901\n",
       "Name: cluster, dtype: int64"
      ]
     },
     "execution_count": 200,
     "metadata": {},
     "output_type": "execute_result"
    }
   ],
   "source": [
    "dataset1[\"cluster\"].value_counts()"
   ]
  },
  {
   "cell_type": "markdown",
   "id": "555bf25e",
   "metadata": {},
   "source": [
    "Graficamos. Y vemos lo antes dicho, que en los distitos rangos de precios habra propiedades con variada cantidad de habitaciones."
   ]
  },
  {
   "cell_type": "code",
   "execution_count": 201,
   "id": "7c570cb0",
   "metadata": {},
   "outputs": [
    {
     "data": {
      "image/png": "[encoded data removed]",
      "text/plain": [
       "<Figure size 432x288 with 1 Axes>"
      ]
     },
     "metadata": {},
     "output_type": "display_data"
    }
   ],
   "source": [
    "sns.scatterplot(x=\"bedrooms\",y=\"price\",hue=\"cluster\",data=datasetSS)\n",
    "plt.show()\n"
   ]
  }
 ],
 "metadata": {
  "kernelspec": {
   "display_name": "Python 3 (ipykernel)",
   "language": "python",
   "name": "python3"
  },
  "language_info": {
   "codemirror_mode": {
    "name": "ipython",
    "version": 3
   },
   "file_extension": ".py",
   "mimetype": "text/x-python",
   "name": "python",
   "nbconvert_exporter": "python",
   "pygments_lexer": "ipython3",
   "version": "3.9.7"
  }
 },
 "nbformat": 4,
 "nbformat_minor": 5
}
